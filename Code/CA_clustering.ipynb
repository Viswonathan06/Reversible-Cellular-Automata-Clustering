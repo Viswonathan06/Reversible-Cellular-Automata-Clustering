{
  "cells": [
    {
      "cell_type": "code",
      "execution_count": 8,
      "metadata": {
        "id": "e532nCU3mzl_"
      },
      "outputs": [],
      "source": [
        "import pandas as pd\n",
        "import numpy as np\n",
        "from pandas import DataFrame as df \n",
        "import math\n",
        "import random as rand\n",
        "\n",
        "\n",
        "from sklearn.metrics import silhouette_score,calinski_harabasz_score,davies_bouldin_score\n",
        "from sklearn.cluster import KMeans\n",
        "from sklearn import metrics         \n",
        "import copy \n",
        "from tabulate import tabulate\n",
        "import random"
      ]
    },
    {
      "cell_type": "code",
      "execution_count": null,
      "metadata": {
        "colab": {
          "base_uri": "https://localhost:8080/",
          "height": 1000
        },
        "id": "yrTbSIhwWuPw",
        "outputId": "ce973741-15a5-4134-c87f-fdb5d71d8ce9"
      },
      "outputs": [],
      "source": [
        "# data=pd.read_csv(\"total_data_na.csv\")\n",
        "# data=pd.read_csv(\"../Dataset/Iris.csv\")\n",
        "# data=data.drop(\"Id\",axis=1)\n",
        "# data=data.drop(\"Species\",axis=1)\n",
        "data=pd.read_csv(\"../Dataset/school_district_breakdowns_1.csv\")\n",
        "data=data.dropna()\n",
        "data=data.drop(\"jurisdiction_name\",axis=1)\n",
        "data"
      ]
    },
    {
      "cell_type": "code",
      "execution_count": 3,
      "metadata": {
        "id": "HGMcERQWWuUw"
      },
      "outputs": [],
      "source": [
        "#Frequency Based Encoding\n",
        "def frequency_encoding(data):\n",
        "  encoder=['00','01','11','10']\n",
        "  details= dict()\n",
        "  for j in data.columns:\n",
        "    col=data[j]\n",
        "    sortx = dict()\n",
        "    a=list()\n",
        "    for i in col:\n",
        "      if i not in sortx:\n",
        "        sortx[i] = 1\n",
        "        a.append(i)\n",
        "      else:\n",
        "        sortx[i]+=1\n",
        "    a.sort()\n",
        "    p=0\n",
        "    s=0\n",
        "    i=0\n",
        "    l=0\n",
        "    while p<len(data):\n",
        "      m=int(sortx[a[l]])\n",
        "      if  s+m <=(math.ceil(len(data)/len(encoder))) :\n",
        "        s+=m\n",
        "        sortx[a[l]]=encoder[i]\n",
        "      else:\n",
        "        if l == 0:\n",
        "          sortx[a[l]]=encoder[i]\n",
        "          i+=1\n",
        "        else:\n",
        "          i+=1\n",
        "          sortx[a[l]]=encoder[i]\n",
        "        s=0\n",
        "      l+=1\n",
        "      p+=m\n",
        "    details[j]=sortx\n",
        "  data1 = df(columns = data.columns)\n",
        "  for i in range(len(data)):\n",
        "    t=[]\n",
        "    p=data.loc[i]\n",
        "    for j in range(len(p)):\n",
        "      s=details[data.columns[j]]\n",
        "      t.append(s[p[j]])\n",
        "    ar = pd.Series(t, index = data1.columns)\n",
        "    data1 = data1.append(ar,ignore_index = True)\n",
        "  return data1\n",
        "\n"
      ]
    },
    {
      "cell_type": "code",
      "execution_count": 4,
      "metadata": {
        "colab": {
          "base_uri": "https://localhost:8080/"
        },
        "id": "ce0MHm3qWuZ5",
        "outputId": "90e29725-2976-4b99-ee6d-a9e31ed4b54a"
      },
      "outputs": [],
      "source": [
        "#Generating final encoded string\n",
        "def get_concatenated_string(data):\n",
        "  enc=[]\n",
        "  for i in range(len(data)):\n",
        "    p=data.loc[i]\n",
        "    t=\"\"\n",
        "    for j in p:\n",
        "      t+=j\n",
        "    enc.append(t)\n",
        "  return enc"
      ]
    },
    {
      "cell_type": "code",
      "execution_count": 80,
      "metadata": {},
      "outputs": [],
      "source": [
        "# Godel number encoding\n",
        "def godel_number_encoding(data):\n",
        "    # Take all columns and raise primes to the power of the value in that column\n",
        "    # Then multiply all the values together as a single string\n",
        "    primes = [2, 3, 5, 7, 11, 13, 17, 19, 23, 29, 31, 37, 41, 43, 47, 53, 59, 61, 67, 71, 73, 79, 83, 89, 97, 101, 103, 107, 109, 113, 127, 131, 137, 139, 149, 151, 157, 163, 167, 173, 179, 181, 191, 193, 197, 199]\n",
        "    enc=[]\n",
        "    for i in range(len(data)):\n",
        "        p=data.loc[i]\n",
        "        val=1\n",
        "        for j in range(len(p)):\n",
        "            val*=primes[j]**p[j]\n",
        "        enc.append(f'{val:.0f}')\n",
        "    return enc"
      ]
    },
    {
      "cell_type": "code",
      "execution_count": null,
      "metadata": {},
      "outputs": [],
      "source": [
        "enc = godel_number_encoding(data)\n",
        "enc"
      ]
    },
    {
      "cell_type": "code",
      "execution_count": 5,
      "metadata": {
        "colab": {
          "base_uri": "https://localhost:8080/"
        },
        "id": "DicLzXUpWue7",
        "outputId": "c66cf0fb-ea7b-496c-c7ab-09df58896a3c"
      },
      "outputs": [],
      "source": [
        "def split_string(encodings, split = 5):\n",
        "  r_ind=[]\n",
        "  enc_length = len(encodings[0])\n",
        "  div = math.floor((enc_length)/split)+1\n",
        "  print(div)\n",
        "  for i in range(div, enc_length, div):\n",
        "    r_ind.append(i)\n",
        "  print(r_ind)\n",
        "  t=[]\n",
        "  for i in range(len(encodings)):\n",
        "    s=0\n",
        "    for j in r_ind:\n",
        "      t.append(encodings[i][s:j])\n",
        "      s=j\n",
        "    t.append(encodings[i][s:])\n",
        "    encodings[i]=t\n",
        "    t=[]\n",
        "  # for i in encodings:\n",
        "    # print(i)\n",
        "  return(encodings)  \n",
        "\n"
      ]
    },
    {
      "cell_type": "code",
      "execution_count": 6,
      "metadata": {
        "id": "4qU9hZono-DQ"
      },
      "outputs": [],
      "source": [
        "#Function to add null boundary and returns string\n",
        "def nullbound(n,winsize,t1):\n",
        "  if n%2!=0:\n",
        "          if winsize%2!=0:\n",
        "            t1 = \"0\"*(winsize//2) + t1 + \"0\"*(winsize//2)\n",
        "          else:\n",
        "            t1 = \"0\"*((winsize//2)+1) + t1 + \"0\"*(winsize//2)\n",
        "  else:\n",
        "          if winsize%2!=0:\n",
        "            t1 = \"0\"*(winsize//2) + t1 + \"0\"*(winsize//2)\n",
        "          else:\n",
        "            t1 = \"0\"*((winsize//2)+1) + t1 + \"0\"*(winsize//2)\n",
        "  return t1"
      ]
    },
    {
      "cell_type": "code",
      "execution_count": 7,
      "metadata": {
        "id": "wMzy9FV_562B"
      },
      "outputs": [],
      "source": [
        "#generating binary rule\n",
        "def rg(rule, winsize):\n",
        "  brule=bin(rule).replace(\"0b\",\"\").zfill(2**winsize)\n",
        "  brule=brule[::-1]\n",
        "  return brule "
      ]
    },
    {
      "cell_type": "code",
      "execution_count": 8,
      "metadata": {
        "colab": {
          "base_uri": "https://localhost:8080/"
        },
        "id": "hRwGXoArsdYO",
        "outputId": "afbebc35-17e6-4a64-b883-33ca1aa157ed"
      },
      "outputs": [],
      "source": [
        "def get_rule_list(path=\"../rule_list.txt\"):\n",
        "    # opening the file in read mode\n",
        "    my_file = open(path, \"r\")\n",
        "    # reading the file\n",
        "    file_con = my_file.read()\n",
        "    # replacing end splitting the text \n",
        "    # when newline ('\\n') is seen.\n",
        "    rule_list = file_con.split(\"\\n\")\n",
        "    my_file.close()\n",
        "    return rule_list"
      ]
    },
    {
      "cell_type": "code",
      "execution_count": 9,
      "metadata": {
        "id": "r_9gMFVo09XZ"
      },
      "outputs": [],
      "source": [
        "#For finding the length of the next encoding(as in 2-bit, 3-bit encoding)\n",
        "def findn(d):\n",
        "    i=1\n",
        "    while 2**i<d:\n",
        "      i+=1\n",
        "    return i\n",
        "\n",
        "def cy_enc(l,index):\n",
        "    return bin(index).replace(\"0b\",\"\").zfill(l)"
      ]
    },
    {
      "cell_type": "code",
      "execution_count": 10,
      "metadata": {
        "id": "a6pj3oNKWuho"
      },
      "outputs": [],
      "source": [
        "#Will apply the CA rule and generate all possible cycles and returns nested list\n",
        "def apply_rule(a1,winsize,brule):\n",
        "  final_array = []\n",
        "  a=list(set(a1))\n",
        "  n=len(a[0])\n",
        "  current_array=[]\n",
        "  while(a):\n",
        "    t1=a[0]\n",
        "    flag=0\n",
        "    while(not flag):\n",
        "      if current_array == []:\n",
        "        current_array.append(t1)\n",
        "        a.remove(t1)\n",
        "        \n",
        "      else:\n",
        "        t1=nullbound(n,winsize,t1)\n",
        "        t2=\"\"\n",
        "\n",
        "        for j in range(n):\n",
        "          check=int(str(t1[j:j+winsize]),2)\n",
        "          t2+=brule[check]\n",
        "\n",
        "        t1=t2\n",
        "\n",
        "        if t1 not in current_array:\n",
        "            if t1 in a:\n",
        "              a.remove(t1)\n",
        "              current_array.append(t1)\n",
        "              \n",
        "        else:\n",
        "            flag=1\n",
        "        \n",
        "\n",
        "    final_array.append(current_array)\n",
        "    current_array=[]\n",
        "    cycle=1\n",
        "    # print(cycle)\n",
        "    cycle+=1\n",
        "  return final_array"
      ]
    },
    {
      "cell_type": "code",
      "execution_count": 11,
      "metadata": {
        "colab": {
          "base_uri": "https://localhost:8080/"
        },
        "id": "jqyyXbiXe8Uq",
        "outputId": "33a5d5b5-715d-4803-d89a-8eb465d19cef"
      },
      "outputs": [],
      "source": [
        "def cellular_automata_clustering(split, rule_list, encoding, window_size = 5):\n",
        "\n",
        "  better_score_list = []\n",
        "  best_CA_sill = -10000\n",
        "  best_rule = []\n",
        "  \n",
        "  for rules in range(5):\n",
        "    tmc=[]\n",
        "    tma=[]\n",
        "    print(\"Trial number :\", rules)\n",
        "    rule_set=random.sample(rule_list,2)\n",
        "    #Clustering, checking scores 252702960\n",
        "    #rule_set=[252691440,2218767375]\n",
        "    # rule_set=[[1511938590,2218767375],[2276755335,1259293455],[2276755215,255652080]]\n",
        "    #rule_set=[[1511938590,2218767375]]\n",
        "    # rule_set=[267390795,267416079]\n",
        "    # rule_set=[256577355,259190799]\n",
        "    print(rule_set)\n",
        "    enc1 = copy.deepcopy(encoding)\n",
        "    for p in range(int(len(rule_set)/2)):\n",
        "      rule = rg(int(rule_set[0]), window_size)\n",
        "      fc = {}\n",
        "      tr = []\n",
        "      for i in range(split):\n",
        "        for j in range(len(enc1)):\n",
        "          tr.append(enc1[j][i])\n",
        "        fc[i]=apply_rule(tr,window_size,rule)\n",
        "        tr = []\n",
        "\n",
        "      for i in range(split):\n",
        "        t=fc[i]\n",
        "        s=findn(len(t))\n",
        "        for j in range(len(enc1)):\n",
        "          plt=enc1[j][i]\n",
        "          l=0\n",
        "          while(plt not in t[l]):\n",
        "            l+=1\n",
        "          enc1[j][i]= cy_enc(s,l)\n",
        "      rule=rg(int(rule_set[1]),window_size)\n",
        "      for i in range(len(enc1)):\n",
        "        t=\"\"\n",
        "        for j in enc1[i]:\n",
        "          t+=j\n",
        "        enc1[i]=t\n",
        "      # print(len(enc1))\n",
        "      fa=apply_rule(enc1,window_size,rule)\n",
        "      #print(fa)\n",
        "      kl=copy.deepcopy(enc1)\n",
        "      for i in range(len(enc1)):\n",
        "        j=0\n",
        "        while j <len(fa):\n",
        "          if enc1[i] in fa[j]:\n",
        "            enc1[i]=j\n",
        "            break\n",
        "          else:\n",
        "            j+=1\n",
        "\n",
        "      \n",
        "      X=data.to_numpy()\n",
        "      #print(len(enc1),len(X))\n",
        "      print(p)\n",
        "      \n",
        "      if (len(set(enc1))>1):\n",
        "        CA_sill_old=silhouette_score(X,enc1,metric=\"euclidean\")\n",
        "        print(CA_sill_old)\n",
        "        # print(rule_set[2*p+1])\n",
        "        print(\"silhoutte:\",CA_sill_old)\n",
        "        # !!! CHange this later\n",
        "        # if CA_sill_old < best_CA_old:\n",
        "        #   best_CA_old = CA_sill_old\n",
        "        #   best_rules= rule_set\n",
        "        # print(\"calinski:\",calinski_harabasz_score(X,enc1))\n",
        "        # print(\"davies:\",davies_bouldin_score(X,enc1))\n",
        "\n",
        "        \n",
        "\n",
        "        clust=KMeans(n_clusters=len(set(enc1)),random_state=42)\n",
        "        clust.fit(X)\n",
        "        labels=clust.labels_\n",
        "        \n",
        "        Kmean_sill_old=metrics.silhouette_score(X, labels, metric='euclidean')\n",
        "        # print(\"Kmeans silhoutte :\" ,Kmeans_sill_new)\n",
        "        # print(len(set(labels)))\n",
        "        # print(\"Kmeans calinski :\", (metrics.calinski_harabasz_score(X, labels)))\n",
        "        # print(\"Kmeans davies_bouldin_score: \",metrics.davies_bouldin_score(X, labels))\n",
        "        print(\"-----------\")\n",
        "        # if Kmean_sill_old < CA_sill_old:\n",
        "        #   better_score_list.append([rule_set, CA_sill_old, Kmean_sill_old])\n",
        "        tmc.append([CA_sill_old,Kmean_sill_old])\n",
        "        if tma==[] or tma[0][0]<CA_sill_old:\n",
        "          tma.append([CA_sill_old,Kmean_sill_old])\n",
        "\n",
        "    kls=copy.deepcopy(kl)\n",
        "    t1=copy.deepcopy(fa) \n",
        "    for i in range(len(fa)-2):\n",
        "      #print(len(t1),\"###\")\n",
        "      kl=copy.deepcopy(kls)  \n",
        "      fa1=copy.deepcopy(t1)\n",
        "      idx=0\n",
        "      for j in range(len(fa1)):\n",
        "        if len(fa1[j])<len(fa1[idx]):\n",
        "          idx=j\n",
        "          \n",
        "      t=copy.deepcopy(t1) \n",
        "      removed=t.pop(idx)\n",
        "      #print(removed)\n",
        "      ml=[]\n",
        "\n",
        "      for j in removed:\n",
        "        ml.append([kls.index(j),j])\n",
        "      ml=sorted(ml)\n",
        "      for j in ml:\n",
        "        kl.remove(j[1])\n",
        "      #print(ml)\n",
        "      for j in range(len(fa1[idx])):\n",
        "        p=[]\n",
        "        a,b=ml[0]\n",
        "        kl.insert(a,b)\n",
        "        X=data.copy(deep=True)\n",
        "        if len(ml)>1:\n",
        "            for h in ml[1:]:\n",
        "              X.drop(h[0],inplace=True)\n",
        "          #print(len(X))\n",
        "        X=X.to_numpy()\n",
        "        for k in range(len(t)):\n",
        "          m=copy.deepcopy(t)\n",
        "          m[k].append(b)\n",
        "\n",
        "          kle=copy.deepcopy(kl)\n",
        "          for z in range(len(kle)):\n",
        "            c=0\n",
        "            while c <len(m):\n",
        "              if kle[z] in m[c]:\n",
        "                kle[z]=c\n",
        "                break\n",
        "              else:\n",
        "                c+=1\n",
        "          CA_sill_new=silhouette_score(X,kle,metric=\"euclidean\")\n",
        "          p.append(CA_sill_new)\n",
        "        #print(p.index(max(p)))\n",
        "        #print(t[p.index(max(p))])\n",
        "        t[p.index(max(p))].append(fa1[idx][j])\n",
        "        ml.pop()\n",
        "        t1=t\n",
        "        l=[]\n",
        "        for i in t1:\n",
        "          l.append(len(i))\n",
        "        #print(l)\n",
        "    for i in range(len(kls)):\n",
        "      j=0\n",
        "      while j <len(t1):\n",
        "        if kls[i] in t1[j]:\n",
        "          kls[i]=j\n",
        "          break\n",
        "        else:\n",
        "          j+=1\n",
        "    X=data.to_numpy()\n",
        "    CA_sill_new=silhouette_score(X,kls,metric=\"euclidean\")\n",
        "    # print(best_rules)\n",
        "    print(\"silhoutte:\",CA_sill_new)\n",
        "    print(\"calinski:\",calinski_harabasz_score(X,kls))\n",
        "    print(\"davies:\",davies_bouldin_score(X,kls))\n",
        "    clust=KMeans(n_clusters=len(set(kls)),random_state=42)\n",
        "    clust.fit(X)\n",
        "    labels=clust.labels_\n",
        "        \n",
        "    Kmeans_sill_new=metrics.silhouette_score(X, labels, metric='euclidean')\n",
        "\n",
        "\n",
        "    if CA_sill_new > Kmeans_sill_new:\n",
        "      better_score_list.append(rule_set)\n",
        "    \n",
        "    if CA_sill_new > best_CA_sill:\n",
        "      best_CA_sill = CA_sill_new\n",
        "      best_rule = rule_set\n",
        "\n",
        "\n",
        "    my_data=[[len(fa),tma[0][0],tma[0][1],CA_sill_new,Kmeans_sill_new]]\n",
        "\n",
        "    head=[\"Initial no.of clusters\", \"Silhoutte score for our algo\",\"silhoutte score for kmeans\",\" new silhoutte score\",\"new silhoute for kmeans\"]\n",
        "    print(tabulate(my_data, headers=head, tablefmt=\"grid\"))\n",
        "    p=[]\n",
        "    for i in fa:\n",
        "      p.append(len(i))\n",
        "    q=[]\n",
        "    for i in t1:\n",
        "      q.append(len(i))\n",
        "    print(\"before :\",p)\n",
        "    print(\"after: \",q)\n",
        "\n",
        "    print(t1)\n",
        "  return best_rule, best_CA_sill, better_score_list"
      ]
    },
    {
      "cell_type": "code",
      "execution_count": null,
      "metadata": {},
      "outputs": [],
      "source": [
        "#Replacing the data in table with encoding\n",
        "freq_data = frequency_encoding(data)\n",
        "enc = get_concatenated_string(freq_data)\n",
        "split_enc = split_string(enc, split=5)\n",
        "rule_list = get_rule_list()\n",
        "best_rule, best_CA_sill, better_score_list = cellular_automata_clustering(5, rule_list, split_enc)"
      ]
    },
    {
      "cell_type": "code",
      "execution_count": 35,
      "metadata": {},
      "outputs": [
        {
          "data": {
            "text/plain": [
              "[]"
            ]
          },
          "execution_count": 35,
          "metadata": {},
          "output_type": "execute_result"
        }
      ],
      "source": [
        "better_score_list"
      ]
    },
    {
      "cell_type": "code",
      "execution_count": 24,
      "metadata": {
        "colab": {
          "base_uri": "https://localhost:8080/"
        },
        "id": "ljFs8nR-e8Ut",
        "outputId": "d53b2ca0-1559-44f0-b6c9-ad9e1d98fd16"
      },
      "outputs": [
        {
          "name": "stdout",
          "output_type": "stream",
          "text": [
            "before : [1, 1, 1, 2, 1, 1]\n",
            "after:  [5, 2]\n",
            "[['0000001', '0000101', '0100000', '0000000', '0000010'], ['0001000', '0000100']]\n"
          ]
        }
      ],
      "source": []
    },
    {
      "cell_type": "code",
      "execution_count": 25,
      "metadata": {
        "id": "wq6lbd8ke8Ut"
      },
      "outputs": [],
      "source": [
        "from sklearn.cluster import KMeans, MeanShift, DBSCAN, Birch\n",
        "from sklearn import datasets\n",
        "X=data.to_numpy()\n"
      ]
    },
    {
      "cell_type": "code",
      "execution_count": 26,
      "metadata": {
        "colab": {
          "base_uri": "https://localhost:8080/"
        },
        "id": "NaXhU0tze8Uu",
        "outputId": "ad08223c-cab9-4178-b17b-b1a0f3fc48e1"
      },
      "outputs": [
        {
          "name": "stdout",
          "output_type": "stream",
          "text": [
            "Meanshift silhoutte : 0.46821835837440073\n",
            "Meanshift calinski : 350.2929624179578\n",
            "Meanshift davies_bouldin_score:  0.23522706626769807\n"
          ]
        }
      ],
      "source": [
        "clust_model = MeanShift(bandwidth=50)\n",
        "clust_model.fit(X)\n",
        "labels = clust_model.labels_\n",
        "Kmeans_sill_new=metrics.silhouette_score(X, labels, metric='euclidean')\n",
        "print(\"Meanshift silhoutte :\" ,Kmeans_sill_new)\n",
        "print(\"Meanshift calinski :\", (metrics.calinski_harabasz_score(X, labels)))\n",
        "print(\"Meanshift davies_bouldin_score: \",metrics.davies_bouldin_score(X, labels))\n"
      ]
    },
    {
      "cell_type": "code",
      "execution_count": 27,
      "metadata": {
        "colab": {
          "base_uri": "https://localhost:8080/"
        },
        "id": "HdFEiLToe8Uu",
        "outputId": "d7807089-1dba-4296-8a83-9a7bf19abda0"
      },
      "outputs": [
        {
          "name": "stdout",
          "output_type": "stream",
          "text": [
            "DBSCAN silhoutte : 0.46821835837440073\n"
          ]
        }
      ],
      "source": [
        "clust_model = DBSCAN(min_samples=2, eps=100)\n",
        "clust_model.fit(X)\n",
        "# Evaluating model's performance\n",
        "\n",
        "labels = clust_model.labels_\n",
        "# Kmeans_sill_new=metrics.silhouette_score(X, labels, metric='euclidean')\n",
        "print(\"DBSCAN silhoutte :\" ,Kmeans_sill_new)\n",
        "# print(\"DBSCAN calinski :\", (metrics.calinski_harabasz_score(X, labels)))\n",
        "# print(\"DBSCAN davies_bouldin_score: \",metrics.davies_bouldin_score(X, labels))\n"
      ]
    },
    {
      "cell_type": "code",
      "execution_count": 28,
      "metadata": {
        "colab": {
          "base_uri": "https://localhost:8080/"
        },
        "id": "Dg3S5aJ9e8Uu",
        "outputId": "4a3693d2-c266-4fab-e5a6-d04d4e3ffbaf"
      },
      "outputs": [
        {
          "name": "stdout",
          "output_type": "stream",
          "text": [
            "Birch silhoutte : 0.7663611080988648\n",
            "Birch calinski : 94.42893185124181\n",
            "Birch davies_bouldin_score:  0.43429835583227294\n"
          ]
        }
      ],
      "source": [
        "clust_model = Birch(n_clusters=2,branching_factor=1000,threshold=1.5)\n",
        "clust_model.fit(X)\n",
        "labels = clust_model.labels_\n",
        "Kmeans_sill_new=metrics.silhouette_score(X, labels, metric='euclidean')\n",
        "print(\"Birch silhoutte :\" ,Kmeans_sill_new)\n",
        "print(\"Birch calinski :\", (metrics.calinski_harabasz_score(X, labels)))\n",
        "print(\"Birch davies_bouldin_score: \",metrics.davies_bouldin_score(X, labels))\n"
      ]
    },
    {
      "cell_type": "code",
      "execution_count": 29,
      "metadata": {
        "colab": {
          "base_uri": "https://localhost:8080/"
        },
        "id": "To0bTffre8Uv",
        "outputId": "489a919b-9d2d-4943-bdb0-1c3f9c628101"
      },
      "outputs": [
        {
          "data": {
            "text/plain": [
              "array([[11, 4, 0.36, ..., False, 11, 100],\n",
              "       [124, 70, 0.56, ..., False, 124, 100],\n",
              "       [38, 26, 0.68, ..., False, 38, 100],\n",
              "       ...,\n",
              "       [6, 4, 0.67, ..., False, 6, 100],\n",
              "       [0, 0, 0.0, ..., False, 0, 0],\n",
              "       [0, 0, 0.0, ..., False, 0, 0]], dtype=object)"
            ]
          },
          "execution_count": 29,
          "metadata": {},
          "output_type": "execute_result"
        }
      ],
      "source": [
        "X\n"
      ]
    },
    {
      "cell_type": "code",
      "execution_count": 30,
      "metadata": {
        "colab": {
          "base_uri": "https://localhost:8080/"
        },
        "id": "Bxwic7s8WukR",
        "outputId": "fa1c3c74-4808-4a45-809c-b5b6d3d48846"
      },
      "outputs": [
        {
          "name": "stdout",
          "output_type": "stream",
          "text": [
            "0\n",
            "6\n",
            "-----------\n"
          ]
        }
      ],
      "source": [
        "#Clustering, checking scores 252702960\n",
        "winsize = 5\n",
        "split=5\n",
        "\n",
        "#rule_list=[267390795,267416079]\n",
        "#rule_list=[256577355,259190799]\n",
        "#rule_list=[252691440,2218767375]\n",
        "# rule_list=[[1511938590,2218767375],[2276755335,1259293455],[2276755215,255652080]]\n",
        "#rule_list=[[1511938590,2218767375]]\n",
        "\n",
        "tmc=[]\n",
        "tma=[]\n",
        "enc1 = copy.deepcopy(enc)\n",
        "for p in range(int(len(rule_list)/2)):\n",
        "  rule = rg(int(rule_list[0]), window_size)\n",
        "  fc = {}\n",
        "\n",
        "  tr = []\n",
        "  for i in range(split):\n",
        "    for j in range(len(enc1)):\n",
        "      tr.append(enc1[j][i])\n",
        "    fc[i]=apply_rule(tr,winsize,rule)\n",
        "    tr = []\n",
        "\n",
        "  for i in range(split):\n",
        "    t=fc[i]\n",
        "    s=findn(len(t))\n",
        "    for j in range(len(enc1)):\n",
        "      plt=enc1[j][i]\n",
        "      l=0\n",
        "      while(plt not in t[l]):\n",
        "        l+=1\n",
        "      enc1[j][i]= cy_enc(s,l)\n",
        "  rule=rg(int(rule_list[1]), window_size)\n",
        "  for i in range(len(enc1)):\n",
        "    t=\"\"\n",
        "    for j in enc1[i]:\n",
        "      t+=j\n",
        "    enc1[i]=t\n",
        "  # print(len(enc1))\n",
        "  fa=apply_rule(enc1,winsize,rule)\n",
        "  #print(fa)\n",
        "  kl=copy.deepcopy(enc1)\n",
        "  for i in range(len(enc1)):\n",
        "    j=0\n",
        "    while j <len(fa):\n",
        "      if enc1[i] in fa[j]:\n",
        "        enc1[i]=j\n",
        "        break\n",
        "      else:\n",
        "        j+=1\n",
        "\n",
        "  \n",
        "  X=data.to_numpy()\n",
        "  #print(len(enc1),len(X))\n",
        "  print(p)\n",
        "  \n",
        "  if (len(set(enc1))>1):\n",
        "      CA_sill_new=silhouette_score(X,enc1,metric=\"euclidean\")\n",
        "      # print(rule_list[2*p])\n",
        "      # print(rule_list[2*p+1])\n",
        "      # print(\"silhoutte:\",CA_sill_new)\n",
        "      # print(\"calinski:\",calinski_harabasz_score(X,enc1))\n",
        "      # print(\"davies:\",davies_bouldin_score(X,enc1))\n",
        "\n",
        "      clust=KMeans(n_clusters=len(set(enc1)),random_state=42)\n",
        "      clust.fit(X)\n",
        "      labels=clust.labels_\n",
        "      \n",
        "      Kmeans_sill_new=metrics.silhouette_score(X, labels, metric='euclidean')\n",
        "      # print(\"Kmeans silhoutte :\" ,Kmeans_sill_new)\n",
        "      print(len(set(labels)))\n",
        "      # print(\"Kmeans calinski :\", (metrics.calinski_harabasz_score(X, labels)))\n",
        "      # print(\"Kmeans davies_bouldin_score: \",metrics.davies_bouldin_score(X, labels))\n",
        "      print(\"-----------\")\n",
        "      tmc.append([CA_sill_new,Kmeans_sill_new])\n",
        "      if tma==[] or tma[0][0]<CA_sill_new:\n",
        "        tma=[[CA_sill_new,Kmeans_sill_new]]\n",
        "  #enc1=copy.deepcopy(enc)\n",
        "\n",
        "\n",
        "\n",
        "\n",
        "  \n",
        "\n"
      ]
    },
    {
      "cell_type": "code",
      "execution_count": 30,
      "metadata": {
        "id": "c9espWtIqrFf"
      },
      "outputs": [],
      "source": []
    },
    {
      "cell_type": "code",
      "execution_count": 31,
      "metadata": {
        "id": "nbL_4EMy34U8"
      },
      "outputs": [],
      "source": [
        "kls=copy.deepcopy(kl)\n",
        "t1=copy.deepcopy(fa) \n",
        "for i in range(len(fa)-2):\n",
        "  #print(len(t1),\"###\")\n",
        "  kl=copy.deepcopy(kls)  \n",
        "  fa1=copy.deepcopy(t1)\n",
        "  idx=0\n",
        "  for j in range(len(fa1)):\n",
        "    if len(fa1[j])<len(fa1[idx]):\n",
        "      idx=j\n",
        "      \n",
        "  t=copy.deepcopy(t1) \n",
        "  removed=t.pop(idx)\n",
        "  #print(removed)\n",
        "  ml=[]\n",
        "\n",
        "  for j in removed:\n",
        "    ml.append([kls.index(j),j])\n",
        "  ml=sorted(ml)\n",
        "  for j in ml:\n",
        "    kl.remove(j[1])\n",
        "  #print(ml)\n",
        "  for j in range(len(fa1[idx])):\n",
        "    p=[]\n",
        "    a,b=ml[0]\n",
        "    kl.insert(a,b)\n",
        "    X=data.copy(deep=True)\n",
        "    if len(ml)>1:\n",
        "        for h in ml[1:]:\n",
        "          X.drop(h[0],inplace=True)\n",
        "      #print(len(X))\n",
        "    X=X.to_numpy()\n",
        "    for k in range(len(t)):\n",
        "      m=copy.deepcopy(t)\n",
        "      m[k].append(b)\n",
        "\n",
        "      kle=copy.deepcopy(kl)\n",
        "      for z in range(len(kle)):\n",
        "        c=0\n",
        "        while c <len(m):\n",
        "          if kle[z] in m[c]:\n",
        "            kle[z]=c\n",
        "            break\n",
        "          else:\n",
        "            c+=1\n",
        "      CA_sill_new=silhouette_score(X,kle,metric=\"euclidean\")\n",
        "      p.append(CA_sill_new)\n",
        "    #print(p.index(max(p)))\n",
        "    #print(t[p.index(max(p))])\n",
        "    t[p.index(max(p))].append(fa1[idx][j])\n",
        "    ml.pop()\n",
        "    t1=t\n",
        "    l=[]\n",
        "    for i in t1:\n",
        "      l.append(len(i))\n",
        "    #print(l)"
      ]
    },
    {
      "cell_type": "code",
      "execution_count": 32,
      "metadata": {
        "colab": {
          "base_uri": "https://localhost:8080/"
        },
        "id": "hmlMiKrZMfBY",
        "outputId": "903cedaa-d12a-45f7-98ba-af24c20a41fd"
      },
      "outputs": [
        {
          "data": {
            "text/plain": [
              "32"
            ]
          },
          "execution_count": 32,
          "metadata": {},
          "output_type": "execute_result"
        }
      ],
      "source": [
        "len(kl)"
      ]
    },
    {
      "cell_type": "code",
      "execution_count": 33,
      "metadata": {
        "colab": {
          "base_uri": "https://localhost:8080/"
        },
        "id": "sHcUr7bOvqrV",
        "outputId": "de7396ab-df7a-4fca-b434-1dd257c86651"
      },
      "outputs": [
        {
          "name": "stdout",
          "output_type": "stream",
          "text": [
            "silhoutte: 0.443505982241705\n",
            "calinski: 4.60603342090343\n",
            "davies: 1.3405901839679435\n",
            "Kmeans silhoutte : 0.7663611080988648\n",
            "Kmeans calinski : 94.42893185124181\n",
            "Kmeans davies_bouldin_score:  0.43429835583227294\n",
            "2\n"
          ]
        }
      ],
      "source": [
        "for i in range(len(kls)):\n",
        "    j=0\n",
        "    while j <len(t1):\n",
        "      if kls[i] in t1[j]:\n",
        "        kls[i]=j\n",
        "        break\n",
        "      else:\n",
        "        j+=1\n",
        "X=data.to_numpy()\n",
        "CA_sill_new=silhouette_score(X,kls,metric=\"euclidean\")\n",
        "print(\"silhoutte:\",CA_sill_new)\n",
        "print(\"calinski:\",calinski_harabasz_score(X,kls))\n",
        "print(\"davies:\",davies_bouldin_score(X,kls))\n",
        "clust=KMeans(n_clusters=len(set(kls)),random_state=42)\n",
        "clust.fit(X)\n",
        "labels=clust.labels_\n",
        "      \n",
        "Kmeans_sill_new=metrics.silhouette_score(X, labels, metric='euclidean')\n",
        "print(\"Kmeans silhoutte :\" ,Kmeans_sill_new)\n",
        "print(\"Kmeans calinski :\", (metrics.calinski_harabasz_score(X, labels)))\n",
        "print(\"Kmeans davies_bouldin_score: \",metrics.davies_bouldin_score(X, labels))\n",
        "print(len(set(labels)))"
      ]
    },
    {
      "cell_type": "code",
      "execution_count": 34,
      "metadata": {
        "colab": {
          "base_uri": "https://localhost:8080/"
        },
        "id": "qLW3bSBedJcs",
        "outputId": "a8cf0d1d-085a-43d6-b35c-6a88c3e4461e"
      },
      "outputs": [
        {
          "name": "stdout",
          "output_type": "stream",
          "text": [
            "+--------------------------+--------------------------------+------------------------------+------------------------+---------------------------+\n",
            "|   Initial no.of clusters |   Silhoutte score for our algo |   silhoutte score for kmeans |    new silhoutte score |   new silhoute for kmeans |\n",
            "+==========================+================================+==============================+========================+===========================+\n",
            "|                        6 |                      -0.302546 |                     0.635624 |               0.443506 |                  0.766361 |\n",
            "+--------------------------+--------------------------------+------------------------------+------------------------+---------------------------+\n"
          ]
        }
      ],
      "source": [
        "my_data=[[len(fa),tma[0][0],tma[0][1],CA_sill_new,Kmeans_sill_new]]\n",
        "head=[\"Initial no.of clusters\", \"Silhoutte score for our algo\",\"silhoutte score for kmeans\",\" new silhoutte score\",\"new silhoute for kmeans\"]\n",
        "print(tabulate(my_data, headers=head, tablefmt=\"grid\"))"
      ]
    },
    {
      "cell_type": "code",
      "execution_count": null,
      "metadata": {
        "colab": {
          "base_uri": "https://localhost:8080/"
        },
        "id": "GfCco_5De85-",
        "outputId": "1ad1c339-dfba-4a3c-f7a4-2b978cb10a9a"
      },
      "outputs": [
        {
          "name": "stdout",
          "output_type": "stream",
          "text": [
            "before : [25, 1, 1]\n",
            "after:  [25, 2]\n",
            "[['0100010100001000010', '0010001010000101010', '0000000000010000011', '1000000000000100010', '0001000010100001101', '0000000000010000001', '0001001001000001101', '0001100101100001000', '0100100000111000010', '0100010000000100010', '0100000001110110010', '0101101000000011001', '0010000000000010010', '0001000100000001101', '0100001100000100010', '0111011110010111110', '0011011000000011001', '0101010101110000001', '0000011100000000001', '0001001000010001000', '0110011000100000001', '0010000001000110010', '0101100000000011001', '0000100000000000001', '0010001000001000010'], ['0001000000000001101', '0001000001010001100']]\n"
          ]
        }
      ],
      "source": [
        "p=[]\n",
        "for i in fa:\n",
        "  p.append(len(i))\n",
        "q=[]\n",
        "for i in t1:\n",
        "  q.append(len(i))\n",
        "print(\"before :\",p)\n",
        "print(\"after: \",q)\n",
        "\n",
        "print(t1)"
      ]
    },
    {
      "cell_type": "code",
      "execution_count": null,
      "metadata": {
        "id": "6gU7drT9bhhL"
      },
      "outputs": [],
      "source": [
        "from sklearn.cluster import KMeans, MeanShift, DBSCAN, Birch\n",
        "from sklearn import datasets\n",
        "X=data.to_numpy()\n"
      ]
    },
    {
      "cell_type": "code",
      "execution_count": null,
      "metadata": {
        "colab": {
          "base_uri": "https://localhost:8080/"
        },
        "id": "Y1cbpMuubjW5",
        "outputId": "65bc4f93-6a62-4a90-946f-b468d3fa4f3f"
      },
      "outputs": [
        {
          "name": "stdout",
          "output_type": "stream",
          "text": [
            "Meanshift silhoutte : 0.46821835837440073\n",
            "Meanshift calinski : 350.2929624179578\n",
            "Meanshift davies_bouldin_score:  0.23522706626769807\n"
          ]
        }
      ],
      "source": [
        "clust_model = MeanShift(bandwidth=50)\n",
        "clust_model.fit(X)\n",
        "labels = clust_model.labels_\n",
        "Kmeans_sill_new=metrics.silhouette_score(X, labels, metric='euclidean')\n",
        "print(\"Meanshift silhoutte :\" ,Kmeans_sill_new)\n",
        "print(\"Meanshift calinski :\", (metrics.calinski_harabasz_score(X, labels)))\n",
        "print(\"Meanshift davies_bouldin_score: \",metrics.davies_bouldin_score(X, labels))\n"
      ]
    },
    {
      "cell_type": "code",
      "execution_count": null,
      "metadata": {
        "colab": {
          "base_uri": "https://localhost:8080/"
        },
        "id": "UxrlPHmvdjRp",
        "outputId": "a067f113-f36f-44ea-9255-90b25e2f0f69"
      },
      "outputs": [
        {
          "name": "stdout",
          "output_type": "stream",
          "text": [
            "DBSCAN silhoutte : 0.46821835837440073\n"
          ]
        }
      ],
      "source": [
        "clust_model = DBSCAN(min_samples=2, eps=100)\n",
        "clust_model.fit(X)\n",
        "# Evaluating model's performance\n",
        "\n",
        "labels = clust_model.labels_\n",
        "# Kmeans_sill_new=metrics.silhouette_score(X, labels, metric='euclidean')\n",
        "print(\"DBSCAN silhoutte :\" ,Kmeans_sill_new)\n",
        "# print(\"DBSCAN calinski :\", (metrics.calinski_harabasz_score(X, labels)))\n",
        "# print(\"DBSCAN davies_bouldin_score: \",metrics.davies_bouldin_score(X, labels))\n"
      ]
    },
    {
      "cell_type": "code",
      "execution_count": null,
      "metadata": {
        "colab": {
          "base_uri": "https://localhost:8080/"
        },
        "id": "5wlgpCBpdjVI",
        "outputId": "41a9f17e-c948-40b1-8359-e9772bb05d41"
      },
      "outputs": [
        {
          "name": "stdout",
          "output_type": "stream",
          "text": [
            "Birch silhoutte : 0.7663611080988648\n",
            "Birch calinski : 94.42893185124181\n",
            "Birch davies_bouldin_score:  0.43429835583227294\n"
          ]
        }
      ],
      "source": [
        "clust_model = Birch(n_clusters=2,branching_factor=1000,threshold=1.5)\n",
        "clust_model.fit(X)\n",
        "labels = clust_model.labels_\n",
        "Kmeans_sill_new=metrics.silhouette_score(X, labels, metric='euclidean')\n",
        "print(\"Birch silhoutte :\" ,Kmeans_sill_new)\n",
        "print(\"Birch calinski :\", (metrics.calinski_harabasz_score(X, labels)))\n",
        "print(\"Birch davies_bouldin_score: \",metrics.davies_bouldin_score(X, labels))\n"
      ]
    },
    {
      "cell_type": "code",
      "execution_count": null,
      "metadata": {
        "colab": {
          "base_uri": "https://localhost:8080/"
        },
        "id": "XqJvCBdcM-F-",
        "outputId": "e59d4f1b-0d40-4577-cc4d-069e3b62a535"
      },
      "outputs": [
        {
          "data": {
            "text/plain": [
              "array([[ 11.  ,   4.  ,   0.36, ...,   0.  ,  11.  , 100.  ],\n",
              "       [124.  ,  70.  ,   0.56, ...,   0.  , 124.  , 100.  ],\n",
              "       [ 38.  ,  26.  ,   0.68, ...,   0.  ,  38.  , 100.  ],\n",
              "       ...,\n",
              "       [  6.  ,   4.  ,   0.67, ...,   0.  ,   6.  , 100.  ],\n",
              "       [  0.  ,   0.  ,   0.  , ...,   0.  ,   0.  ,   0.  ],\n",
              "       [  0.  ,   0.  ,   0.  , ...,   0.  ,   0.  ,   0.  ]])"
            ]
          },
          "execution_count": 1384,
          "metadata": {},
          "output_type": "execute_result"
        }
      ],
      "source": [
        "X\n"
      ]
    },
    {
      "cell_type": "code",
      "execution_count": 19,
      "metadata": {},
      "outputs": [],
      "source": [
        "temp = {}\n"
      ]
    },
    {
      "cell_type": "code",
      "execution_count": 21,
      "metadata": {},
      "outputs": [],
      "source": [
        "temp['2'] = 4"
      ]
    },
    {
      "cell_type": "code",
      "execution_count": 22,
      "metadata": {},
      "outputs": [
        {
          "data": {
            "text/plain": [
              "{2: 4, '2': 4}"
            ]
          },
          "execution_count": 22,
          "metadata": {},
          "output_type": "execute_result"
        }
      ],
      "source": [
        "temp"
      ]
    },
    {
      "cell_type": "code",
      "execution_count": null,
      "metadata": {},
      "outputs": [],
      "source": []
    }
  ],
  "metadata": {
    "colab": {
      "provenance": []
    },
    "kernelspec": {
      "display_name": "Python 3.10.6 64-bit",
      "language": "python",
      "name": "python3"
    },
    "language_info": {
      "codemirror_mode": {
        "name": "ipython",
        "version": 3
      },
      "file_extension": ".py",
      "mimetype": "text/x-python",
      "name": "python",
      "nbconvert_exporter": "python",
      "pygments_lexer": "ipython3",
      "version": "3.10.6"
    },
    "vscode": {
      "interpreter": {
        "hash": "916dbcbb3f70747c44a77c7bcd40155683ae19c65e1c03b4aa3499c5328201f1"
      }
    }
  },
  "nbformat": 4,
  "nbformat_minor": 0
}
