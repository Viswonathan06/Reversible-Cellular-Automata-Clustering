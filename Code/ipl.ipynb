{
  "cells": [
    {
      "cell_type": "code",
      "execution_count": 1,
      "metadata": {
        "id": "e532nCU3mzl_"
      },
      "outputs": [],
      "source": [
        "import pandas as pd\n",
        "import numpy as np\n",
        "from pandas import DataFrame as df \n",
        "import math\n",
        "import random as rand\n",
        "\n",
        "\n",
        "from sklearn.metrics import silhouette_score,calinski_harabasz_score,davies_bouldin_score\n",
        "import copy \n",
        "from tabulate import tabulate\n",
        "import random"
      ]
    },
    {
      "cell_type": "code",
      "execution_count": 2,
      "metadata": {
        "colab": {
          "base_uri": "https://localhost:8080/",
          "height": 1000
        },
        "id": "yrTbSIhwWuPw",
        "outputId": "0312acb5-5315-4271-c4e6-8bfa50fa3a0f"
      },
      "outputs": [
        {
          "data": {
            "text/html": [
              "<div>\n",
              "<style scoped>\n",
              "    .dataframe tbody tr th:only-of-type {\n",
              "        vertical-align: middle;\n",
              "    }\n",
              "\n",
              "    .dataframe tbody tr th {\n",
              "        vertical-align: top;\n",
              "    }\n",
              "\n",
              "    .dataframe thead th {\n",
              "        text-align: right;\n",
              "    }\n",
              "</style>\n",
              "<table border=\"1\" class=\"dataframe\">\n",
              "  <thead>\n",
              "    <tr style=\"text-align: right;\">\n",
              "      <th></th>\n",
              "      <th>SepalLengthCm</th>\n",
              "      <th>SepalWidthCm</th>\n",
              "      <th>PetalLengthCm</th>\n",
              "      <th>PetalWidthCm</th>\n",
              "    </tr>\n",
              "  </thead>\n",
              "  <tbody>\n",
              "    <tr>\n",
              "      <th>0</th>\n",
              "      <td>5.1</td>\n",
              "      <td>3.5</td>\n",
              "      <td>1.4</td>\n",
              "      <td>0.2</td>\n",
              "    </tr>\n",
              "    <tr>\n",
              "      <th>1</th>\n",
              "      <td>4.9</td>\n",
              "      <td>3.0</td>\n",
              "      <td>1.4</td>\n",
              "      <td>0.2</td>\n",
              "    </tr>\n",
              "    <tr>\n",
              "      <th>2</th>\n",
              "      <td>4.7</td>\n",
              "      <td>3.2</td>\n",
              "      <td>1.3</td>\n",
              "      <td>0.2</td>\n",
              "    </tr>\n",
              "    <tr>\n",
              "      <th>3</th>\n",
              "      <td>4.6</td>\n",
              "      <td>3.1</td>\n",
              "      <td>1.5</td>\n",
              "      <td>0.2</td>\n",
              "    </tr>\n",
              "    <tr>\n",
              "      <th>4</th>\n",
              "      <td>5.0</td>\n",
              "      <td>3.6</td>\n",
              "      <td>1.4</td>\n",
              "      <td>0.2</td>\n",
              "    </tr>\n",
              "    <tr>\n",
              "      <th>...</th>\n",
              "      <td>...</td>\n",
              "      <td>...</td>\n",
              "      <td>...</td>\n",
              "      <td>...</td>\n",
              "    </tr>\n",
              "    <tr>\n",
              "      <th>145</th>\n",
              "      <td>6.7</td>\n",
              "      <td>3.0</td>\n",
              "      <td>5.2</td>\n",
              "      <td>2.3</td>\n",
              "    </tr>\n",
              "    <tr>\n",
              "      <th>146</th>\n",
              "      <td>6.3</td>\n",
              "      <td>2.5</td>\n",
              "      <td>5.0</td>\n",
              "      <td>1.9</td>\n",
              "    </tr>\n",
              "    <tr>\n",
              "      <th>147</th>\n",
              "      <td>6.5</td>\n",
              "      <td>3.0</td>\n",
              "      <td>5.2</td>\n",
              "      <td>2.0</td>\n",
              "    </tr>\n",
              "    <tr>\n",
              "      <th>148</th>\n",
              "      <td>6.2</td>\n",
              "      <td>3.4</td>\n",
              "      <td>5.4</td>\n",
              "      <td>2.3</td>\n",
              "    </tr>\n",
              "    <tr>\n",
              "      <th>149</th>\n",
              "      <td>5.9</td>\n",
              "      <td>3.0</td>\n",
              "      <td>5.1</td>\n",
              "      <td>1.8</td>\n",
              "    </tr>\n",
              "  </tbody>\n",
              "</table>\n",
              "<p>150 rows × 4 columns</p>\n",
              "</div>"
            ],
            "text/plain": [
              "     SepalLengthCm  SepalWidthCm  PetalLengthCm  PetalWidthCm\n",
              "0              5.1           3.5            1.4           0.2\n",
              "1              4.9           3.0            1.4           0.2\n",
              "2              4.7           3.2            1.3           0.2\n",
              "3              4.6           3.1            1.5           0.2\n",
              "4              5.0           3.6            1.4           0.2\n",
              "..             ...           ...            ...           ...\n",
              "145            6.7           3.0            5.2           2.3\n",
              "146            6.3           2.5            5.0           1.9\n",
              "147            6.5           3.0            5.2           2.0\n",
              "148            6.2           3.4            5.4           2.3\n",
              "149            5.9           3.0            5.1           1.8\n",
              "\n",
              "[150 rows x 4 columns]"
            ]
          },
          "execution_count": 2,
          "metadata": {},
          "output_type": "execute_result"
        }
      ],
      "source": [
        "# data=pd.read_csv(\"total_data_na.csv\")\n",
        "data=pd.read_csv(\"../input/Iris.csv\")\n",
        "data=data.dropna()\n",
        "data=data.drop(['Species','Id'],axis=1)\n",
        "# data=data.drop[\"JURISDICTIONNAME\"]\n",
        "# data= data.drop(\"PLAYER\",axis=1)\n",
        "data"
      ]
    },
    {
      "cell_type": "code",
      "execution_count": 3,
      "metadata": {
        "id": "Eegn_KAdWuSL"
      },
      "outputs": [],
      "source": [
        "encoder=['00','01','11','10']"
      ]
    },
    {
      "cell_type": "code",
      "execution_count": 4,
      "metadata": {
        "colab": {
          "base_uri": "https://localhost:8080/"
        },
        "id": "K9BiVRJbE0XQ",
        "outputId": "56c87373-2237-4ed0-f7f6-d33c6266a336"
      },
      "outputs": [
        {
          "data": {
            "text/plain": [
              "150"
            ]
          },
          "execution_count": 4,
          "metadata": {},
          "output_type": "execute_result"
        }
      ],
      "source": [
        "len(data)"
      ]
    },
    {
      "cell_type": "code",
      "execution_count": 5,
      "metadata": {
        "id": "HGMcERQWWuUw"
      },
      "outputs": [],
      "source": [
        "#Frequency Based Encoding\n",
        "details= dict()\n",
        "for j in data.columns:\n",
        "  col=data[j]\n",
        "  sortx = dict()\n",
        "  a=list()\n",
        "  for i in col:\n",
        "    if i not in sortx:\n",
        "      sortx[i] = 1\n",
        "      a.append(i)\n",
        "    else:\n",
        "      sortx[i]+=1\n",
        "  a.sort()\n",
        "  p=0\n",
        "  s=0\n",
        "  i=0\n",
        "  l=0\n",
        "  while p<len(data):\n",
        "    m=int(sortx[a[l]])\n",
        "    if  s+m <=(math.ceil(len(data)/len(encoder))) :\n",
        "      s+=m\n",
        "      sortx[a[l]]=encoder[i]\n",
        "    else:\n",
        "      if l == 0:\n",
        "        sortx[a[l]]=encoder[i]\n",
        "        i+=1\n",
        "      else:\n",
        "        i+=1\n",
        "        sortx[a[l]]=encoder[i]\n",
        "      s=0\n",
        "    l+=1\n",
        "    p+=m\n",
        "  details[j]=sortx\n",
        "\n"
      ]
    },
    {
      "cell_type": "code",
      "execution_count": 6,
      "metadata": {
        "colab": {
          "base_uri": "https://localhost:8080/",
          "height": 1000
        },
        "id": "ny-35zXjWuXa",
        "outputId": "df623608-28ed-4c74-b9b4-b1b70a1e6bd7"
      },
      "outputs": [
        {
          "name": "stderr",
          "output_type": "stream",
          "text": [
            "/var/folders/j7/0xc74mdd0vn8k3qvwmg5vl840000gn/T/ipykernel_39357/1138767711.py:10: FutureWarning: The frame.append method is deprecated and will be removed from pandas in a future version. Use pandas.concat instead.\n",
            "  data1 = data1.append(ar,ignore_index = True)\n"
          ]
        },
        {
          "data": {
            "text/html": [
              "<div>\n",
              "<style scoped>\n",
              "    .dataframe tbody tr th:only-of-type {\n",
              "        vertical-align: middle;\n",
              "    }\n",
              "\n",
              "    .dataframe tbody tr th {\n",
              "        vertical-align: top;\n",
              "    }\n",
              "\n",
              "    .dataframe thead th {\n",
              "        text-align: right;\n",
              "    }\n",
              "</style>\n",
              "<table border=\"1\" class=\"dataframe\">\n",
              "  <thead>\n",
              "    <tr style=\"text-align: right;\">\n",
              "      <th></th>\n",
              "      <th>SepalLengthCm</th>\n",
              "      <th>SepalWidthCm</th>\n",
              "      <th>PetalLengthCm</th>\n",
              "      <th>PetalWidthCm</th>\n",
              "    </tr>\n",
              "  </thead>\n",
              "  <tbody>\n",
              "    <tr>\n",
              "      <th>0</th>\n",
              "      <td>01</td>\n",
              "      <td>11</td>\n",
              "      <td>00</td>\n",
              "      <td>00</td>\n",
              "    </tr>\n",
              "    <tr>\n",
              "      <th>1</th>\n",
              "      <td>00</td>\n",
              "      <td>01</td>\n",
              "      <td>00</td>\n",
              "      <td>00</td>\n",
              "    </tr>\n",
              "    <tr>\n",
              "      <th>2</th>\n",
              "      <td>00</td>\n",
              "      <td>11</td>\n",
              "      <td>00</td>\n",
              "      <td>00</td>\n",
              "    </tr>\n",
              "    <tr>\n",
              "      <th>3</th>\n",
              "      <td>00</td>\n",
              "      <td>11</td>\n",
              "      <td>00</td>\n",
              "      <td>00</td>\n",
              "    </tr>\n",
              "    <tr>\n",
              "      <th>4</th>\n",
              "      <td>00</td>\n",
              "      <td>10</td>\n",
              "      <td>00</td>\n",
              "      <td>00</td>\n",
              "    </tr>\n",
              "    <tr>\n",
              "      <th>...</th>\n",
              "      <td>...</td>\n",
              "      <td>...</td>\n",
              "      <td>...</td>\n",
              "      <td>...</td>\n",
              "    </tr>\n",
              "    <tr>\n",
              "      <th>145</th>\n",
              "      <td>10</td>\n",
              "      <td>01</td>\n",
              "      <td>11</td>\n",
              "      <td>10</td>\n",
              "    </tr>\n",
              "    <tr>\n",
              "      <th>146</th>\n",
              "      <td>11</td>\n",
              "      <td>00</td>\n",
              "      <td>11</td>\n",
              "      <td>11</td>\n",
              "    </tr>\n",
              "    <tr>\n",
              "      <th>147</th>\n",
              "      <td>10</td>\n",
              "      <td>01</td>\n",
              "      <td>11</td>\n",
              "      <td>10</td>\n",
              "    </tr>\n",
              "    <tr>\n",
              "      <th>148</th>\n",
              "      <td>11</td>\n",
              "      <td>11</td>\n",
              "      <td>11</td>\n",
              "      <td>10</td>\n",
              "    </tr>\n",
              "    <tr>\n",
              "      <th>149</th>\n",
              "      <td>11</td>\n",
              "      <td>01</td>\n",
              "      <td>11</td>\n",
              "      <td>11</td>\n",
              "    </tr>\n",
              "  </tbody>\n",
              "</table>\n",
              "<p>150 rows × 4 columns</p>\n",
              "</div>"
            ],
            "text/plain": [
              "    SepalLengthCm SepalWidthCm PetalLengthCm PetalWidthCm\n",
              "0              01           11            00           00\n",
              "1              00           01            00           00\n",
              "2              00           11            00           00\n",
              "3              00           11            00           00\n",
              "4              00           10            00           00\n",
              "..            ...          ...           ...          ...\n",
              "145            10           01            11           10\n",
              "146            11           00            11           11\n",
              "147            10           01            11           10\n",
              "148            11           11            11           10\n",
              "149            11           01            11           11\n",
              "\n",
              "[150 rows x 4 columns]"
            ]
          },
          "execution_count": 6,
          "metadata": {},
          "output_type": "execute_result"
        }
      ],
      "source": [
        "#Replacing the data in table with encoding\n",
        "data1 = df(columns = data.columns)\n",
        "for i in range(len(data)):\n",
        "  t=[]\n",
        "  p=data.loc[i]\n",
        "  for j in range(len(p)):\n",
        "    s=details[data.columns[j]]\n",
        "    t.append(s[p[j]])\n",
        "  ar = pd.Series(t, index = data1.columns)\n",
        "  data1 = data1.append(ar,ignore_index = True)\n",
        "\n",
        "data1"
      ]
    },
    {
      "cell_type": "code",
      "execution_count": 7,
      "metadata": {
        "colab": {
          "base_uri": "https://localhost:8080/"
        },
        "id": "ce0MHm3qWuZ5",
        "outputId": "dbca7bb1-3cc1-4737-efd7-8707c7fd7016"
      },
      "outputs": [
        {
          "data": {
            "text/plain": [
              "['01110000',\n",
              " '00010000',\n",
              " '00110000',\n",
              " '00110000',\n",
              " '00100000',\n",
              " '01100101',\n",
              " '00110001',\n",
              " '00110000',\n",
              " '00010000',\n",
              " '00110000',\n",
              " '01100000',\n",
              " '00110100',\n",
              " '00010000',\n",
              " '00010000',\n",
              " '11100000',\n",
              " '01100001',\n",
              " '01100001',\n",
              " '01110001',\n",
              " '01100101',\n",
              " '01100001',\n",
              " '01110100',\n",
              " '01100001',\n",
              " '00100000',\n",
              " '01110101',\n",
              " '00110100',\n",
              " '00010100',\n",
              " '00110101',\n",
              " '01110000',\n",
              " '01110000',\n",
              " '00110100',\n",
              " '00110100',\n",
              " '01110001',\n",
              " '01100000',\n",
              " '01100000',\n",
              " '00110000',\n",
              " '00110000',\n",
              " '01110000',\n",
              " '00110000',\n",
              " '00010000',\n",
              " '01110000',\n",
              " '00110001',\n",
              " '00000001',\n",
              " '00110000',\n",
              " '00110101',\n",
              " '01100101',\n",
              " '00010001',\n",
              " '01100100',\n",
              " '00110000',\n",
              " '01100000',\n",
              " '00110000',\n",
              " '10111111',\n",
              " '11111111',\n",
              " '10111111',\n",
              " '01000101',\n",
              " '10011111',\n",
              " '01011101',\n",
              " '11111111',\n",
              " '00000101',\n",
              " '10011101',\n",
              " '01000111',\n",
              " '00000101',\n",
              " '11010111',\n",
              " '11000101',\n",
              " '11011111',\n",
              " '01010101',\n",
              " '10110111',\n",
              " '01011111',\n",
              " '11000101',\n",
              " '11001111',\n",
              " '01000101',\n",
              " '11111111',\n",
              " '11010101',\n",
              " '11001111',\n",
              " '11011101',\n",
              " '11010101',\n",
              " '10010111',\n",
              " '10011111',\n",
              " '10011111',\n",
              " '11011111',\n",
              " '01000101',\n",
              " '01000101',\n",
              " '01000101',\n",
              " '11000101',\n",
              " '11001111',\n",
              " '01011111',\n",
              " '11111111',\n",
              " '10111111',\n",
              " '11000101',\n",
              " '01010101',\n",
              " '01000101',\n",
              " '01000101',\n",
              " '11011111',\n",
              " '11000101',\n",
              " '00000101',\n",
              " '01000101',\n",
              " '01010101',\n",
              " '01010101',\n",
              " '11010101',\n",
              " '01000101',\n",
              " '01010101',\n",
              " '11111010',\n",
              " '11001111',\n",
              " '10011010',\n",
              " '11011011',\n",
              " '10011010',\n",
              " '10011010',\n",
              " '00001111',\n",
              " '10011011',\n",
              " '10001011',\n",
              " '10101010',\n",
              " '10111110',\n",
              " '11001111',\n",
              " '10011110',\n",
              " '01001110',\n",
              " '11011110',\n",
              " '11111110',\n",
              " '10011111',\n",
              " '10101010',\n",
              " '10001010',\n",
              " '11001111',\n",
              " '10111010',\n",
              " '01011110',\n",
              " '10011010',\n",
              " '11001111',\n",
              " '10111010',\n",
              " '10111011',\n",
              " '11011111',\n",
              " '11011111',\n",
              " '11011010',\n",
              " '10011011',\n",
              " '10011011',\n",
              " '10101010',\n",
              " '11011010',\n",
              " '11011111',\n",
              " '11001011',\n",
              " '10011010',\n",
              " '11111010',\n",
              " '11111111',\n",
              " '11011111',\n",
              " '10111110',\n",
              " '10111010',\n",
              " '10111110',\n",
              " '11001111',\n",
              " '10111010',\n",
              " '10111010',\n",
              " '10011110',\n",
              " '11001111',\n",
              " '10011110',\n",
              " '11111110',\n",
              " '11011111']"
            ]
          },
          "execution_count": 7,
          "metadata": {},
          "output_type": "execute_result"
        }
      ],
      "source": [
        "#Generating final encoded string\n",
        "enc=[]\n",
        "for i in range(len(data1)):\n",
        "  p=data1.loc[i]\n",
        "  t=\"\"\n",
        "  for j in p:\n",
        "    t+=j\n",
        "  enc.append(t)\n",
        "enc"
      ]
    },
    {
      "cell_type": "code",
      "execution_count": 8,
      "metadata": {
        "colab": {
          "base_uri": "https://localhost:8080/"
        },
        "id": "nVHcPenBJvWl",
        "outputId": "2de743d9-b394-4298-b5b0-4d3f3cbbafd3"
      },
      "outputs": [
        {
          "data": {
            "text/plain": [
              "8"
            ]
          },
          "execution_count": 8,
          "metadata": {},
          "output_type": "execute_result"
        }
      ],
      "source": [
        "len(enc[0])"
      ]
    },
    {
      "cell_type": "code",
      "execution_count": 9,
      "metadata": {
        "id": "0UKbcBXqWuca"
      },
      "outputs": [],
      "source": [
        "r_ind=[]"
      ]
    },
    {
      "cell_type": "code",
      "execution_count": 10,
      "metadata": {
        "colab": {
          "base_uri": "https://localhost:8080/"
        },
        "id": "DicLzXUpWue7",
        "outputId": "d3a9e64c-b717-4f61-c69d-2a2ee795a922"
      },
      "outputs": [
        {
          "name": "stdout",
          "output_type": "stream",
          "text": [
            "['01110000']\n",
            "['00010000']\n",
            "['00110000']\n",
            "['00110000']\n",
            "['00100000']\n",
            "['01100101']\n",
            "['00110001']\n",
            "['00110000']\n",
            "['00010000']\n",
            "['00110000']\n",
            "['01100000']\n",
            "['00110100']\n",
            "['00010000']\n",
            "['00010000']\n",
            "['11100000']\n",
            "['01100001']\n",
            "['01100001']\n",
            "['01110001']\n",
            "['01100101']\n",
            "['01100001']\n",
            "['01110100']\n",
            "['01100001']\n",
            "['00100000']\n",
            "['01110101']\n",
            "['00110100']\n",
            "['00010100']\n",
            "['00110101']\n",
            "['01110000']\n",
            "['01110000']\n",
            "['00110100']\n",
            "['00110100']\n",
            "['01110001']\n",
            "['01100000']\n",
            "['01100000']\n",
            "['00110000']\n",
            "['00110000']\n",
            "['01110000']\n",
            "['00110000']\n",
            "['00010000']\n",
            "['01110000']\n",
            "['00110001']\n",
            "['00000001']\n",
            "['00110000']\n",
            "['00110101']\n",
            "['01100101']\n",
            "['00010001']\n",
            "['01100100']\n",
            "['00110000']\n",
            "['01100000']\n",
            "['00110000']\n",
            "['10111111']\n",
            "['11111111']\n",
            "['10111111']\n",
            "['01000101']\n",
            "['10011111']\n",
            "['01011101']\n",
            "['11111111']\n",
            "['00000101']\n",
            "['10011101']\n",
            "['01000111']\n",
            "['00000101']\n",
            "['11010111']\n",
            "['11000101']\n",
            "['11011111']\n",
            "['01010101']\n",
            "['10110111']\n",
            "['01011111']\n",
            "['11000101']\n",
            "['11001111']\n",
            "['01000101']\n",
            "['11111111']\n",
            "['11010101']\n",
            "['11001111']\n",
            "['11011101']\n",
            "['11010101']\n",
            "['10010111']\n",
            "['10011111']\n",
            "['10011111']\n",
            "['11011111']\n",
            "['01000101']\n",
            "['01000101']\n",
            "['01000101']\n",
            "['11000101']\n",
            "['11001111']\n",
            "['01011111']\n",
            "['11111111']\n",
            "['10111111']\n",
            "['11000101']\n",
            "['01010101']\n",
            "['01000101']\n",
            "['01000101']\n",
            "['11011111']\n",
            "['11000101']\n",
            "['00000101']\n",
            "['01000101']\n",
            "['01010101']\n",
            "['01010101']\n",
            "['11010101']\n",
            "['01000101']\n",
            "['01010101']\n",
            "['11111010']\n",
            "['11001111']\n",
            "['10011010']\n",
            "['11011011']\n",
            "['10011010']\n",
            "['10011010']\n",
            "['00001111']\n",
            "['10011011']\n",
            "['10001011']\n",
            "['10101010']\n",
            "['10111110']\n",
            "['11001111']\n",
            "['10011110']\n",
            "['01001110']\n",
            "['11011110']\n",
            "['11111110']\n",
            "['10011111']\n",
            "['10101010']\n",
            "['10001010']\n",
            "['11001111']\n",
            "['10111010']\n",
            "['01011110']\n",
            "['10011010']\n",
            "['11001111']\n",
            "['10111010']\n",
            "['10111011']\n",
            "['11011111']\n",
            "['11011111']\n",
            "['11011010']\n",
            "['10011011']\n",
            "['10011011']\n",
            "['10101010']\n",
            "['11011010']\n",
            "['11011111']\n",
            "['11001011']\n",
            "['10011010']\n",
            "['11111010']\n",
            "['11111111']\n",
            "['11011111']\n",
            "['10111110']\n",
            "['10111010']\n",
            "['10111110']\n",
            "['11001111']\n",
            "['10111010']\n",
            "['10111010']\n",
            "['10011110']\n",
            "['11001111']\n",
            "['10011110']\n",
            "['11111110']\n",
            "['11011111']\n"
          ]
        }
      ],
      "source": [
        "#Vertical Split into 6\n",
        "t=[]\n",
        "for i in range(len(enc)):\n",
        "  s=0\n",
        "  for j in r_ind:\n",
        "    t.append(enc[i][s:j])\n",
        "    s=j\n",
        "  t.append(enc[i][s:])\n",
        "  enc[i]=t\n",
        "  t=[]\n",
        "for i in enc:\n",
        "  print(i)\n"
      ]
    },
    {
      "cell_type": "code",
      "execution_count": 11,
      "metadata": {
        "id": "4qU9hZono-DQ"
      },
      "outputs": [],
      "source": [
        "#Function to add null boundary and returns string\n",
        "def nullbound(n,winsize,t1):\n",
        "  if n%2!=0:\n",
        "          if winsize%2!=0:\n",
        "            t1 = \"0\"*(winsize//2) + t1 + \"0\"*(winsize//2)\n",
        "          else:\n",
        "            t1 = \"0\"*((winsize//2)+1) + t1 + \"0\"*(winsize//2)\n",
        "  else:\n",
        "          if winsize%2!=0:\n",
        "            t1 = \"0\"*(winsize//2) + t1 + \"0\"*(winsize//2)\n",
        "          else:\n",
        "            t1 = \"0\"*((winsize//2)+1) + t1 + \"0\"*(winsize//2)\n",
        "  return t1"
      ]
    },
    {
      "cell_type": "code",
      "execution_count": 12,
      "metadata": {
        "id": "wMzy9FV_562B"
      },
      "outputs": [],
      "source": [
        "#generating binary rule\n",
        "def rg(rule):\n",
        "  brule=bin(rule).replace(\"0b\",\"\").zfill(2**winsize)\n",
        "  brule=brule[::-1]\n",
        "  return brule "
      ]
    },
    {
      "cell_type": "code",
      "execution_count": 19,
      "metadata": {
        "colab": {
          "base_uri": "https://localhost:8080/"
        },
        "id": "hRwGXoArsdYO",
        "outputId": "e8ecef18-5069-4cf1-bb56-091deb0ebf69"
      },
      "outputs": [
        {
          "name": "stdout",
          "output_type": "stream",
          "text": [
            "[2018212080, 252648975]\n"
          ]
        }
      ],
      "source": [
        "my_list = [\n",
        "252645135, \n",
        "252645195,\n",
        "252645336,\n",
        "252645360,\n",
        "252652815,\n",
        "252656655,\n",
        "252656880,\n",
        "252691215,\n",
        "252691440,\n",
        "252695055,\n",
        "252698895,\n",
        "252702735,\n",
        "252702960,\n",
        "253678110,\n",
        "254611245,\n",
        "254618925,\n",
        "255594255,\n",
        "255652080,\n",
        "256577295,\n",
        "256577355,\n",
        "259190799,\n",
        "259526415,\n",
        "260509455,\n",
        "260960271,\n",
        "263458575,\n",
        "263458635,\n",
        "264441615,\n",
        "264499440,\n",
        "265482450,\n",
        "267390735,\n",
        "267390795,\n",
        "267390960,\n",
        "267416079,\n",
        "267422991,\n",
        "267448335,\n",
        "267448359,\n",
        "267448560,\n",
        "505290270,\n",
        "505336350,\n",
        "509222490,\n",
        "517136850,\n",
        "517140690,\n",
        "521018910,\n",
        "568251090,\n",
        "570174960,\n",
        "570217200,\n",
        "695036265,\n",
        "755961615,\n",
        "755969295,\n",
        "756011535,\n",
        "756019215,\n",
        "756994590,\n",
        "757927725,\n",
        "757931565,\n",
        "757935405,\n",
        "757939245,\n",
        "764265357,\n",
        "764269197,\n",
        "764273037,\n",
        "764276877,\n",
        "921712188,\n",
        "1010580540,\n",
        "1016918172,\n",
        "1016918172,\n",
        "1511938590,\n",
        "1231776105,\n",
        "1259293455,\n",
        "1259293515,\n",
        "1259293560,\n",
        "1259293680,\n",
        "1263225615,\n",
        "1263225675,\n",
        "1267157835,\n",
        "1267157880,\n",
        "1271089995,\n",
        "1752787305,\n",
        "1768515945,\n",
        "1799965515,\n",
        "1831415085,\n",
        "1921479288,\n",
        "1924428408,\n",
        "2018211960,\n",
        "2018212020,\n",
        "2018212080,\n",
        "2019194970,\n",
        "2021161080,\n",
        "2072267535,\n",
        "2072267595,\n",
        "2076199695,\n",
        "2076199755,\n",
        "2076199920,\n",
        "2218767375,\n",
        "2218767540,\n",
        "2218767600,\n",
        "2222699700,\n",
        "2222699760,\n",
        "2273806215,\n",
        "2275772325,\n",
        "2276755215,\n",
        "2276755275,\n",
        "2276755335,\n",
        "252648975,\n",
        "2370538887,\n",
        "2463552210,\n",
        "2526451350,\n",
        "2777130375,\n",
        "2783028705,\n",
        "3027809415,\n",
        "3031741620,\n",
        "3035673615,\n",
        "3035673780,\n",
        "3063191190,\n",
        "3530698098,\n",
        "3537028050,\n",
        "3537035730,\n",
        "3537972705,\n",
        "3538955760,\n",
        "3539005680,\n",
        "3724750095,\n",
        "3726716205,\n",
        "3777826605,\n",
        "3785744805,\n",
        "3789677025,\n",
        "4027518936,\n",
        "4027544304,\n",
        "4027576335,\n",
        "4027576560,\n",
        "4030467855,\n",
        "4031508660,\n",
        "4034007024,\n",
        "4035440880,\n",
        "4038389940,\n",
        "4039315215,\n",
        "4040348370,\n",
        "4041289185,\n",
        "4042264560,\n",
        "4042272240,\n",
        "263458575,\n",
        "264441615,\n",
        "265482450,\n",
        "267390795,\n",
        "267416079,\n",
        "267448335,\n",
        "267448560,\n",
        "505336350,\n",
        "517136850,\n",
        "521018910,\n",
        "570174960,\n",
        "695036265,\n",
        "755969295,\n",
        "756019215,\n",
        "757927725,\n",
        "757935405,\n",
        "764265357,\n",
        "764273037,\n",
        "921712188,\n",
        "1016918172,\n",
        "1511938590,\n",
        "1259293455,\n",
        "1259293560,\n",
        "1263225615,\n",
        "1267157835]\n",
        "# for i in range(len(rule_list)):\n",
        "#   rule_list[i]=str(rule_list[i])\n",
        "\n",
        "rule_list=random.sample(my_list,2)\n",
        "print(rule_list)\n",
        "\n"
      ]
    },
    {
      "cell_type": "code",
      "execution_count": 14,
      "metadata": {
        "id": "r_9gMFVo09XZ"
      },
      "outputs": [],
      "source": [
        "#For finding the length of the next encoding(as in 2-bit, 3-bit encoding)\n",
        "def findn(d):\n",
        "    i=1\n",
        "    while 2**i<d:\n",
        "      i+=1\n",
        "    return i\n",
        "\n",
        "def cy_enc(l,index):\n",
        "    return   bin(index).replace(\"0b\",\"\").zfill(l)"
      ]
    },
    {
      "cell_type": "code",
      "execution_count": 15,
      "metadata": {
        "id": "r-4TPyvER_7D"
      },
      "outputs": [],
      "source": [
        "from sklearn.cluster import KMeans\n",
        "from sklearn import metrics                                                                                                                  "
      ]
    },
    {
      "cell_type": "code",
      "execution_count": 16,
      "metadata": {
        "id": "a6pj3oNKWuho"
      },
      "outputs": [],
      "source": [
        "#Will apply the CA rule and generate all possible cycles and returns nested list\n",
        "def rule_app1(a1,winsize,brule):\n",
        "  final_array = []\n",
        "  a=list(set(a1))\n",
        "  n=len(a[0])\n",
        "  current_array=[]\n",
        "  while(a):\n",
        "    t1=a[0]\n",
        "    flag=0\n",
        "    while(not flag):\n",
        "      if current_array == []:\n",
        "        current_array.append(t1)\n",
        "        a.remove(t1)\n",
        "        \n",
        "      else:\n",
        "        t1=nullbound(n,winsize,t1)\n",
        "        t2=\"\"\n",
        "\n",
        "        for j in range(n):\n",
        "          check=int(str(t1[j:j+winsize]),2)\n",
        "          t2+=brule[check]\n",
        "\n",
        "        t1=t2\n",
        "\n",
        "        if t1 not in current_array:\n",
        "            if t1 in a:\n",
        "              a.remove(t1)\n",
        "              current_array.append(t1)\n",
        "              \n",
        "        else:\n",
        "            flag=1\n",
        "        \n",
        "\n",
        "    final_array.append(current_array)\n",
        "    current_array=[]\n",
        "    cycle=1\n",
        "    # print(cycle)\n",
        "    cycle+=1\n",
        "  return final_array"
      ]
    },
    {
      "cell_type": "code",
      "execution_count": 20,
      "metadata": {
        "colab": {
          "base_uri": "https://localhost:8080/"
        },
        "id": "jqyyXbiXe8Uq",
        "outputId": "74a2d291-dacd-4aa9-cae7-d2ec701a4504"
      },
      "outputs": [
        {
          "name": "stdout",
          "output_type": "stream",
          "text": [
            "0\n",
            "[2018212080, 252648975]\n",
            "silhoutte: -0.17167423555934896\n",
            "-----------\n"
          ]
        },
        {
          "name": "stderr",
          "output_type": "stream",
          "text": [
            "/Library/Frameworks/Python.framework/Versions/3.10/lib/python3.10/site-packages/sklearn/cluster/_kmeans.py:870: FutureWarning: The default value of `n_init` will change from 10 to 'auto' in 1.4. Set the value of `n_init` explicitly to suppress the warning\n",
            "  warnings.warn(\n"
          ]
        }
      ],
      "source": [
        "\n",
        "#Clustering, checking scores 252702960\n",
        "winsize = 5\n",
        "split=1\n",
        "\n",
        "# rule_list=[267390795,267416079]\n",
        "#rule_list=[256577355,259190799]\n",
        "# rule_list=[252691440,2218767375]\n",
        "# rule_list=[[1511938590,2218767375],[2276755335,1259293455],[2276755215,255652080]]\n",
        "#rule_list=[[1511938590,2218767375]]\n",
        "\n",
        "tmc=[]\n",
        "tma=[]\n",
        "enc1 = copy.deepcopy(enc)\n",
        "for p in range(int(len(rule_list)/2)):\n",
        "  rule = rg(int(rule_list[0]))\n",
        "  fc = {}\n",
        "\n",
        "  tr = []\n",
        "  for i in range(split):\n",
        "    for j in range(len(enc1)):\n",
        "      tr.append(enc1[j][i])\n",
        "    fc[i]=rule_app1(tr,winsize,rule)\n",
        "    tr = []\n",
        "\n",
        "  for i in range(split):\n",
        "    t=fc[i]\n",
        "    s=findn(len(t))\n",
        "    for j in range(len(enc1)):\n",
        "      plt=enc1[j][i]\n",
        "      l=0\n",
        "      while(plt not in t[l]):\n",
        "        l+=1\n",
        "      enc1[j][i]= cy_enc(s,l)\n",
        "  rule=rg(int(rule_list[1]))\n",
        "  for i in range(len(enc1)):\n",
        "    t=\"\"\n",
        "    for j in enc1[i]:\n",
        "      t+=j\n",
        "    enc1[i]=t\n",
        "  # print(len(enc1))\n",
        "  fa=rule_app1(enc1,winsize,rule)\n",
        "  #print(fa)\n",
        "  kl=copy.deepcopy(enc1)\n",
        "  for i in range(len(enc1)):\n",
        "    j=0\n",
        "    while j <len(fa):\n",
        "      if enc1[i] in fa[j]:\n",
        "        enc1[i]=j\n",
        "        break\n",
        "      else:\n",
        "        j+=1\n",
        "\n",
        "  \n",
        "  X=data1.to_numpy()\n",
        "  #print(len(enc1),len(X))\n",
        "  print(p)\n",
        "  \n",
        "  if (len(set(enc1))>1):\n",
        "      pl=silhouette_score(X,enc1,metric=\"euclidean\")\n",
        "      print(rule_list)\n",
        "      # print(rule_list[2*p+1])\n",
        "      print(\"silhoutte:\",pl)\n",
        "      # print(\"calinski:\",calinski_harabasz_score(X,enc1))\n",
        "      # print(\"davies:\",davies_bouldin_score(X,enc1))\n",
        "\n",
        "      clust=KMeans(n_clusters=len(set(enc1)),random_state=42)\n",
        "      clust.fit(X)\n",
        "      labels=clust.labels_\n",
        "      \n",
        "      pl1=metrics.silhouette_score(X, labels, metric='euclidean')\n",
        "      # print(\"Kmeans silhoutte :\" ,pl1)\n",
        "      # print(len(set(labels)))\n",
        "      # print(\"Kmeans calinski :\", (metrics.calinski_harabasz_score(X, labels)))\n",
        "      # print(\"Kmeans davies_bouldin_score: \",metrics.davies_bouldin_score(X, labels))\n",
        "      print(\"-----------\")\n",
        "      tmc.append([pl,pl1])\n",
        "      if tma==[] or tma[0][0]<pl:\n",
        "        tma=[[pl,pl1]]\n",
        "  #enc1=copy.deepcopy(enc)\n",
        "\n",
        "\n",
        "\n",
        "\n",
        "  \n",
        "\n"
      ]
    },
    {
      "cell_type": "code",
      "execution_count": 21,
      "metadata": {
        "colab": {
          "base_uri": "https://localhost:8080/"
        },
        "id": "3r9okj5Ne8Ur",
        "outputId": "0da66d49-4137-4f72-d480-a0f2da8204cb"
      },
      "outputs": [
        {
          "name": "stdout",
          "output_type": "stream",
          "text": [
            "+-----------------------------+-------------------------------+\n",
            "|   record for SC for CA algo |   Corresponding SC for Kmeans |\n",
            "+=============================+===============================+\n",
            "|                   -0.171674 |                      0.819111 |\n",
            "+-----------------------------+-------------------------------+\n",
            "+----------------------+-------------------------------+\n",
            "|   max SC for CA algo |   Corresponding SC for Kmeans |\n",
            "+======================+===============================+\n",
            "|            -0.171674 |                      0.819111 |\n",
            "+----------------------+-------------------------------+\n"
          ]
        }
      ],
      "source": [
        "\n",
        "head=[\"record for SC for CA algo\",\"Corresponding SC for Kmeans\"]\n",
        "print(tabulate(tmc,headers=head,tablefmt=\"grid\"))\n",
        "head=[\"max SC for CA algo\",\"Corresponding SC for Kmeans\"]\n",
        "print(tabulate(tma,headers=head,tablefmt=\"grid\"))"
      ]
    },
    {
      "cell_type": "code",
      "execution_count": 32,
      "metadata": {
        "id": "P2BGZD3Me8Us"
      },
      "outputs": [],
      "source": [
        "kls=copy.deepcopy(kl)\n",
        "t1=copy.deepcopy(fa) \n",
        "for i in range(len(fa)-2):\n",
        "  #print(len(t1),\"###\")\n",
        "  kl=copy.deepcopy(kls)  \n",
        "  fa1=copy.deepcopy(t1)\n",
        "  idx=0\n",
        "  for j in range(len(fa1)):\n",
        "    if len(fa1[j])<len(fa1[idx]):\n",
        "      idx=j\n",
        "      \n",
        "  t=copy.deepcopy(t1) \n",
        "  removed=t.pop(idx)\n",
        "  #print(removed)\n",
        "  ml=[]\n",
        "\n",
        "  for j in removed:\n",
        "    ml.append([kls.index(j),j])\n",
        "  ml=sorted(ml)\n",
        "  for j in ml:\n",
        "    kl.remove(j[1])\n",
        "  #print(ml)\n",
        "  for j in range(len(fa1[idx])):\n",
        "    p=[]\n",
        "    a,b=ml[0]\n",
        "    kl.insert(a,b)\n",
        "    X=data.copy(deep=True)\n",
        "    if len(ml)>1:\n",
        "        for h in ml[1:]:\n",
        "          X.drop(h[0],inplace=True)\n",
        "      #print(len(X))\n",
        "    X=X.to_numpy()\n",
        "    for k in range(len(t)):\n",
        "      m=copy.deepcopy(t)\n",
        "      m[k].append(b)\n",
        "\n",
        "      kle=copy.deepcopy(kl)\n",
        "      for z in range(len(kle)):\n",
        "        c=0\n",
        "        while c <len(m):\n",
        "          if kle[z] in m[c]:\n",
        "            kle[z]=c\n",
        "            break\n",
        "          else:\n",
        "            c+=1\n",
        "      pl=silhouette_score(X,kle,metric=\"euclidean\")\n",
        "      p.append(pl)\n",
        "    #print(p.index(max(p)))\n",
        "    #print(t[p.index(max(p))])\n",
        "    t[p.index(max(p))].append(fa1[idx][j])\n",
        "    ml.pop()\n",
        "    t1=t\n",
        "    l=[]\n",
        "    for i in t1:\n",
        "      l.append(len(i))\n",
        "    #print(l)"
      ]
    },
    {
      "cell_type": "code",
      "execution_count": 33,
      "metadata": {
        "colab": {
          "base_uri": "https://localhost:8080/"
        },
        "id": "e4VNQGeRe8Us",
        "outputId": "16a5eadf-158f-461f-b710-97adf443a509"
      },
      "outputs": [
        {
          "data": {
            "text/plain": [
              "150"
            ]
          },
          "execution_count": 33,
          "metadata": {},
          "output_type": "execute_result"
        }
      ],
      "source": [
        "len(kl)"
      ]
    },
    {
      "cell_type": "code",
      "execution_count": 34,
      "metadata": {
        "colab": {
          "base_uri": "https://localhost:8080/"
        },
        "id": "wCK3tz4Le8Ut",
        "outputId": "053fe780-7009-4b09-d8a7-f48f4df2e565"
      },
      "outputs": [
        {
          "name": "stdout",
          "output_type": "stream",
          "text": [
            "[252691440, 2218767375]\n",
            "silhoutte: 0.13844065216651733\n",
            "calinski: 2.93231349354974\n",
            "davies: 5.260713550499543\n"
          ]
        },
        {
          "name": "stderr",
          "output_type": "stream",
          "text": [
            "/Library/Frameworks/Python.framework/Versions/3.10/lib/python3.10/site-packages/sklearn/cluster/_kmeans.py:870: FutureWarning: The default value of `n_init` will change from 10 to 'auto' in 1.4. Set the value of `n_init` explicitly to suppress the warning\n",
            "  warnings.warn(\n"
          ]
        }
      ],
      "source": [
        "for i in range(len(kls)):\n",
        "    j=0\n",
        "    while j <len(t1):\n",
        "      if kls[i] in t1[j]:\n",
        "        kls[i]=j\n",
        "        break\n",
        "      else:\n",
        "        j+=1\n",
        "X=data.to_numpy()\n",
        "pl=silhouette_score(X,kls,metric=\"euclidean\")\n",
        "print(rule_list)\n",
        "print(\"silhoutte:\",pl)\n",
        "print(\"calinski:\",calinski_harabasz_score(X,kls))\n",
        "print(\"davies:\",davies_bouldin_score(X,kls))\n",
        "clust=KMeans(n_clusters=len(set(kls)),random_state=42)\n",
        "clust.fit(X)\n",
        "labels=clust.labels_\n",
        "      \n",
        "pl1=metrics.silhouette_score(X, labels, metric='euclidean')\n",
        "# print(\"Kmeans silhoutte :\" ,pl1)\n",
        "# print(\"Kmeans calinski :\", (metrics.calinski_harabasz_score(X, labels)))\n",
        "# print(\"Kmeans davies_bouldin_score: \",metrics.davies_bouldin_score(X, labels))\n",
        "# print(len(set(labels)))\n"
      ]
    },
    {
      "cell_type": "code",
      "execution_count": 35,
      "metadata": {
        "colab": {
          "base_uri": "https://localhost:8080/"
        },
        "id": "gGY3cH9Ne8Ut",
        "outputId": "2517218d-1c08-4871-bc8a-fc39967b0113"
      },
      "outputs": [
        {
          "name": "stdout",
          "output_type": "stream",
          "text": [
            "+--------------------------+--------------------------------+------------------------------+------------------------+---------------------------+\n",
            "|   Initial no.of clusters |   Silhoutte score for our algo |   silhoutte score for kmeans |    new silhoutte score |   new silhoute for kmeans |\n",
            "+==========================+================================+==============================+========================+===========================+\n",
            "|                        3 |                      -0.121356 |                     0.552592 |               0.138441 |                  0.680814 |\n",
            "+--------------------------+--------------------------------+------------------------------+------------------------+---------------------------+\n"
          ]
        }
      ],
      "source": [
        "my_data=[[len(fa),tma[0][0],tma[0][1],pl,pl1]]\n",
        "head=[\"Initial no.of clusters\", \"Silhoutte score for our algo\",\"silhoutte score for kmeans\",\" new silhoutte score\",\"new silhoute for kmeans\"]\n",
        "print(tabulate(my_data, headers=head, tablefmt=\"grid\"))"
      ]
    },
    {
      "cell_type": "code",
      "execution_count": 36,
      "metadata": {
        "colab": {
          "base_uri": "https://localhost:8080/"
        },
        "id": "ljFs8nR-e8Ut",
        "outputId": "bebcd220-b917-4d59-edd3-05ab3087e31c"
      },
      "outputs": [
        {
          "name": "stdout",
          "output_type": "stream",
          "text": [
            "before : [5, 3, 1]\n",
            "after:  [6, 3]\n",
            "[['0100', '0010', '0101', '0001', '0000', '0110'], ['0111', '1000', '0011']]\n"
          ]
        }
      ],
      "source": [
        "p=[]\n",
        "for i in fa:\n",
        "  p.append(len(i))\n",
        "q=[]\n",
        "for i in t1:\n",
        "  q.append(len(i))\n",
        "print(\"before :\",p)\n",
        "print(\"after: \",q)\n",
        "\n",
        "print(t1)"
      ]
    },
    {
      "cell_type": "code",
      "execution_count": 37,
      "metadata": {
        "id": "wq6lbd8ke8Ut"
      },
      "outputs": [],
      "source": [
        "from sklearn.cluster import KMeans, MeanShift, DBSCAN, Birch\n",
        "from sklearn import datasets\n",
        "X=data.to_numpy()\n"
      ]
    },
    {
      "cell_type": "code",
      "execution_count": 38,
      "metadata": {
        "colab": {
          "base_uri": "https://localhost:8080/"
        },
        "id": "NaXhU0tze8Uu",
        "outputId": "7bbc46da-6d12-4dda-b615-f398457e3224"
      },
      "outputs": [
        {
          "ename": "ValueError",
          "evalue": "Number of labels is 1. Valid values are 2 to n_samples - 1 (inclusive)",
          "output_type": "error",
          "traceback": [
            "\u001b[0;31m---------------------------------------------------------------------------\u001b[0m",
            "\u001b[0;31mValueError\u001b[0m                                Traceback (most recent call last)",
            "Cell \u001b[0;32mIn[38], line 4\u001b[0m\n\u001b[1;32m      2\u001b[0m clust_model\u001b[39m.\u001b[39mfit(X)\n\u001b[1;32m      3\u001b[0m labels \u001b[39m=\u001b[39m clust_model\u001b[39m.\u001b[39mlabels_\n\u001b[0;32m----> 4\u001b[0m pl1\u001b[39m=\u001b[39mmetrics\u001b[39m.\u001b[39;49msilhouette_score(X, labels, metric\u001b[39m=\u001b[39;49m\u001b[39m'\u001b[39;49m\u001b[39meuclidean\u001b[39;49m\u001b[39m'\u001b[39;49m)\n\u001b[1;32m      5\u001b[0m \u001b[39mprint\u001b[39m(\u001b[39m\"\u001b[39m\u001b[39mMeanshift silhoutte :\u001b[39m\u001b[39m\"\u001b[39m ,pl1)\n\u001b[1;32m      6\u001b[0m \u001b[39mprint\u001b[39m(\u001b[39m\"\u001b[39m\u001b[39mMeanshift calinski :\u001b[39m\u001b[39m\"\u001b[39m, (metrics\u001b[39m.\u001b[39mcalinski_harabasz_score(X, labels)))\n",
            "File \u001b[0;32m/Library/Frameworks/Python.framework/Versions/3.10/lib/python3.10/site-packages/sklearn/metrics/cluster/_unsupervised.py:117\u001b[0m, in \u001b[0;36msilhouette_score\u001b[0;34m(X, labels, metric, sample_size, random_state, **kwds)\u001b[0m\n\u001b[1;32m    115\u001b[0m     \u001b[39melse\u001b[39;00m:\n\u001b[1;32m    116\u001b[0m         X, labels \u001b[39m=\u001b[39m X[indices], labels[indices]\n\u001b[0;32m--> 117\u001b[0m \u001b[39mreturn\u001b[39;00m np\u001b[39m.\u001b[39mmean(silhouette_samples(X, labels, metric\u001b[39m=\u001b[39;49mmetric, \u001b[39m*\u001b[39;49m\u001b[39m*\u001b[39;49mkwds))\n",
            "File \u001b[0;32m/Library/Frameworks/Python.framework/Versions/3.10/lib/python3.10/site-packages/sklearn/metrics/cluster/_unsupervised.py:231\u001b[0m, in \u001b[0;36msilhouette_samples\u001b[0;34m(X, labels, metric, **kwds)\u001b[0m\n\u001b[1;32m    229\u001b[0m n_samples \u001b[39m=\u001b[39m \u001b[39mlen\u001b[39m(labels)\n\u001b[1;32m    230\u001b[0m label_freqs \u001b[39m=\u001b[39m np\u001b[39m.\u001b[39mbincount(labels)\n\u001b[0;32m--> 231\u001b[0m check_number_of_labels(\u001b[39mlen\u001b[39;49m(le\u001b[39m.\u001b[39;49mclasses_), n_samples)\n\u001b[1;32m    233\u001b[0m kwds[\u001b[39m\"\u001b[39m\u001b[39mmetric\u001b[39m\u001b[39m\"\u001b[39m] \u001b[39m=\u001b[39m metric\n\u001b[1;32m    234\u001b[0m reduce_func \u001b[39m=\u001b[39m functools\u001b[39m.\u001b[39mpartial(\n\u001b[1;32m    235\u001b[0m     _silhouette_reduce, labels\u001b[39m=\u001b[39mlabels, label_freqs\u001b[39m=\u001b[39mlabel_freqs\n\u001b[1;32m    236\u001b[0m )\n",
            "File \u001b[0;32m/Library/Frameworks/Python.framework/Versions/3.10/lib/python3.10/site-packages/sklearn/metrics/cluster/_unsupervised.py:33\u001b[0m, in \u001b[0;36mcheck_number_of_labels\u001b[0;34m(n_labels, n_samples)\u001b[0m\n\u001b[1;32m     22\u001b[0m \u001b[39m\"\"\"Check that number of labels are valid.\u001b[39;00m\n\u001b[1;32m     23\u001b[0m \n\u001b[1;32m     24\u001b[0m \u001b[39mParameters\u001b[39;00m\n\u001b[0;32m   (...)\u001b[0m\n\u001b[1;32m     30\u001b[0m \u001b[39m    Number of samples.\u001b[39;00m\n\u001b[1;32m     31\u001b[0m \u001b[39m\"\"\"\u001b[39;00m\n\u001b[1;32m     32\u001b[0m \u001b[39mif\u001b[39;00m \u001b[39mnot\u001b[39;00m \u001b[39m1\u001b[39m \u001b[39m<\u001b[39m n_labels \u001b[39m<\u001b[39m n_samples:\n\u001b[0;32m---> 33\u001b[0m     \u001b[39mraise\u001b[39;00m \u001b[39mValueError\u001b[39;00m(\n\u001b[1;32m     34\u001b[0m         \u001b[39m\"\u001b[39m\u001b[39mNumber of labels is \u001b[39m\u001b[39m%d\u001b[39;00m\u001b[39m. Valid values are 2 to n_samples - 1 (inclusive)\u001b[39m\u001b[39m\"\u001b[39m\n\u001b[1;32m     35\u001b[0m         \u001b[39m%\u001b[39m n_labels\n\u001b[1;32m     36\u001b[0m     )\n",
            "\u001b[0;31mValueError\u001b[0m: Number of labels is 1. Valid values are 2 to n_samples - 1 (inclusive)"
          ]
        }
      ],
      "source": [
        "clust_model = MeanShift(bandwidth=50)\n",
        "clust_model.fit(X)\n",
        "labels = clust_model.labels_\n",
        "pl1=metrics.silhouette_score(X, labels, metric='euclidean')\n",
        "print(\"Meanshift silhoutte :\" ,pl1)\n",
        "print(\"Meanshift calinski :\", (metrics.calinski_harabasz_score(X, labels)))\n",
        "print(\"Meanshift davies_bouldin_score: \",metrics.davies_bouldin_score(X, labels))\n"
      ]
    },
    {
      "cell_type": "code",
      "execution_count": 39,
      "metadata": {
        "colab": {
          "base_uri": "https://localhost:8080/"
        },
        "id": "HdFEiLToe8Uu",
        "outputId": "ab8503c0-3fe5-40d7-f9aa-21b430c21024"
      },
      "outputs": [
        {
          "name": "stdout",
          "output_type": "stream",
          "text": [
            "DBSCAN silhoutte : 0.6808136202936815\n"
          ]
        }
      ],
      "source": [
        "clust_model = DBSCAN(min_samples=2, eps=100)\n",
        "clust_model.fit(X)\n",
        "# Evaluating model's performance\n",
        "\n",
        "labels = clust_model.labels_\n",
        "# pl1=metrics.silhouette_score(X, labels, metric='euclidean')\n",
        "print(\"DBSCAN silhoutte :\" ,pl1)\n",
        "# print(\"DBSCAN calinski :\", (metrics.calinski_harabasz_score(X, labels)))\n",
        "# print(\"DBSCAN davies_bouldin_score: \",metrics.davies_bouldin_score(X, labels))\n"
      ]
    },
    {
      "cell_type": "code",
      "execution_count": 40,
      "metadata": {
        "colab": {
          "base_uri": "https://localhost:8080/"
        },
        "id": "Dg3S5aJ9e8Uu",
        "outputId": "809c0de5-f7fb-4f55-fc90-13541ab26a2b"
      },
      "outputs": [
        {
          "name": "stdout",
          "output_type": "stream",
          "text": [
            "Birch silhoutte : 0.6706890419590956\n",
            "Birch calinski : 501.6925896163014\n",
            "Birch davies_bouldin_score:  0.425651339106438\n"
          ]
        }
      ],
      "source": [
        "clust_model = Birch(n_clusters=2,branching_factor=1000,threshold=1.5)\n",
        "clust_model.fit(X)\n",
        "labels = clust_model.labels_\n",
        "pl1=metrics.silhouette_score(X, labels, metric='euclidean')\n",
        "print(\"Birch silhoutte :\" ,pl1)\n",
        "print(\"Birch calinski :\", (metrics.calinski_harabasz_score(X, labels)))\n",
        "print(\"Birch davies_bouldin_score: \",metrics.davies_bouldin_score(X, labels))\n"
      ]
    },
    {
      "cell_type": "code",
      "execution_count": 41,
      "metadata": {
        "colab": {
          "base_uri": "https://localhost:8080/"
        },
        "id": "To0bTffre8Uv",
        "outputId": "463a7bae-8be7-4824-d3b3-15b5c53a59a1"
      },
      "outputs": [
        {
          "data": {
            "text/plain": [
              "array([[5.1, 3.5, 1.4, 0.2],\n",
              "       [4.9, 3. , 1.4, 0.2],\n",
              "       [4.7, 3.2, 1.3, 0.2],\n",
              "       [4.6, 3.1, 1.5, 0.2],\n",
              "       [5. , 3.6, 1.4, 0.2],\n",
              "       [5.4, 3.9, 1.7, 0.4],\n",
              "       [4.6, 3.4, 1.4, 0.3],\n",
              "       [5. , 3.4, 1.5, 0.2],\n",
              "       [4.4, 2.9, 1.4, 0.2],\n",
              "       [4.9, 3.1, 1.5, 0.1],\n",
              "       [5.4, 3.7, 1.5, 0.2],\n",
              "       [4.8, 3.4, 1.6, 0.2],\n",
              "       [4.8, 3. , 1.4, 0.1],\n",
              "       [4.3, 3. , 1.1, 0.1],\n",
              "       [5.8, 4. , 1.2, 0.2],\n",
              "       [5.7, 4.4, 1.5, 0.4],\n",
              "       [5.4, 3.9, 1.3, 0.4],\n",
              "       [5.1, 3.5, 1.4, 0.3],\n",
              "       [5.7, 3.8, 1.7, 0.3],\n",
              "       [5.1, 3.8, 1.5, 0.3],\n",
              "       [5.4, 3.4, 1.7, 0.2],\n",
              "       [5.1, 3.7, 1.5, 0.4],\n",
              "       [4.6, 3.6, 1. , 0.2],\n",
              "       [5.1, 3.3, 1.7, 0.5],\n",
              "       [4.8, 3.4, 1.9, 0.2],\n",
              "       [5. , 3. , 1.6, 0.2],\n",
              "       [5. , 3.4, 1.6, 0.4],\n",
              "       [5.2, 3.5, 1.5, 0.2],\n",
              "       [5.2, 3.4, 1.4, 0.2],\n",
              "       [4.7, 3.2, 1.6, 0.2],\n",
              "       [4.8, 3.1, 1.6, 0.2],\n",
              "       [5.4, 3.4, 1.5, 0.4],\n",
              "       [5.2, 4.1, 1.5, 0.1],\n",
              "       [5.5, 4.2, 1.4, 0.2],\n",
              "       [4.9, 3.1, 1.5, 0.1],\n",
              "       [5. , 3.2, 1.2, 0.2],\n",
              "       [5.5, 3.5, 1.3, 0.2],\n",
              "       [4.9, 3.1, 1.5, 0.1],\n",
              "       [4.4, 3. , 1.3, 0.2],\n",
              "       [5.1, 3.4, 1.5, 0.2],\n",
              "       [5. , 3.5, 1.3, 0.3],\n",
              "       [4.5, 2.3, 1.3, 0.3],\n",
              "       [4.4, 3.2, 1.3, 0.2],\n",
              "       [5. , 3.5, 1.6, 0.6],\n",
              "       [5.1, 3.8, 1.9, 0.4],\n",
              "       [4.8, 3. , 1.4, 0.3],\n",
              "       [5.1, 3.8, 1.6, 0.2],\n",
              "       [4.6, 3.2, 1.4, 0.2],\n",
              "       [5.3, 3.7, 1.5, 0.2],\n",
              "       [5. , 3.3, 1.4, 0.2],\n",
              "       [7. , 3.2, 4.7, 1.4],\n",
              "       [6.4, 3.2, 4.5, 1.5],\n",
              "       [6.9, 3.1, 4.9, 1.5],\n",
              "       [5.5, 2.3, 4. , 1.3],\n",
              "       [6.5, 2.8, 4.6, 1.5],\n",
              "       [5.7, 2.8, 4.5, 1.3],\n",
              "       [6.3, 3.3, 4.7, 1.6],\n",
              "       [4.9, 2.4, 3.3, 1. ],\n",
              "       [6.6, 2.9, 4.6, 1.3],\n",
              "       [5.2, 2.7, 3.9, 1.4],\n",
              "       [5. , 2. , 3.5, 1. ],\n",
              "       [5.9, 3. , 4.2, 1.5],\n",
              "       [6. , 2.2, 4. , 1. ],\n",
              "       [6.1, 2.9, 4.7, 1.4],\n",
              "       [5.6, 2.9, 3.6, 1.3],\n",
              "       [6.7, 3.1, 4.4, 1.4],\n",
              "       [5.6, 3. , 4.5, 1.5],\n",
              "       [5.8, 2.7, 4.1, 1. ],\n",
              "       [6.2, 2.2, 4.5, 1.5],\n",
              "       [5.6, 2.5, 3.9, 1.1],\n",
              "       [5.9, 3.2, 4.8, 1.8],\n",
              "       [6.1, 2.8, 4. , 1.3],\n",
              "       [6.3, 2.5, 4.9, 1.5],\n",
              "       [6.1, 2.8, 4.7, 1.2],\n",
              "       [6.4, 2.9, 4.3, 1.3],\n",
              "       [6.6, 3. , 4.4, 1.4],\n",
              "       [6.8, 2.8, 4.8, 1.4],\n",
              "       [6.7, 3. , 5. , 1.7],\n",
              "       [6. , 2.9, 4.5, 1.5],\n",
              "       [5.7, 2.6, 3.5, 1. ],\n",
              "       [5.5, 2.4, 3.8, 1.1],\n",
              "       [5.5, 2.4, 3.7, 1. ],\n",
              "       [5.8, 2.7, 3.9, 1.2],\n",
              "       [6. , 2.7, 5.1, 1.6],\n",
              "       [5.4, 3. , 4.5, 1.5],\n",
              "       [6. , 3.4, 4.5, 1.6],\n",
              "       [6.7, 3.1, 4.7, 1.5],\n",
              "       [6.3, 2.3, 4.4, 1.3],\n",
              "       [5.6, 3. , 4.1, 1.3],\n",
              "       [5.5, 2.5, 4. , 1.3],\n",
              "       [5.5, 2.6, 4.4, 1.2],\n",
              "       [6.1, 3. , 4.6, 1.4],\n",
              "       [5.8, 2.6, 4. , 1.2],\n",
              "       [5. , 2.3, 3.3, 1. ],\n",
              "       [5.6, 2.7, 4.2, 1.3],\n",
              "       [5.7, 3. , 4.2, 1.2],\n",
              "       [5.7, 2.9, 4.2, 1.3],\n",
              "       [6.2, 2.9, 4.3, 1.3],\n",
              "       [5.1, 2.5, 3. , 1.1],\n",
              "       [5.7, 2.8, 4.1, 1.3],\n",
              "       [6.3, 3.3, 6. , 2.5],\n",
              "       [5.8, 2.7, 5.1, 1.9],\n",
              "       [7.1, 3. , 5.9, 2.1],\n",
              "       [6.3, 2.9, 5.6, 1.8],\n",
              "       [6.5, 3. , 5.8, 2.2],\n",
              "       [7.6, 3. , 6.6, 2.1],\n",
              "       [4.9, 2.5, 4.5, 1.7],\n",
              "       [7.3, 2.9, 6.3, 1.8],\n",
              "       [6.7, 2.5, 5.8, 1.8],\n",
              "       [7.2, 3.6, 6.1, 2.5],\n",
              "       [6.5, 3.2, 5.1, 2. ],\n",
              "       [6.4, 2.7, 5.3, 1.9],\n",
              "       [6.8, 3. , 5.5, 2.1],\n",
              "       [5.7, 2.5, 5. , 2. ],\n",
              "       [5.8, 2.8, 5.1, 2.4],\n",
              "       [6.4, 3.2, 5.3, 2.3],\n",
              "       [6.5, 3. , 5.5, 1.8],\n",
              "       [7.7, 3.8, 6.7, 2.2],\n",
              "       [7.7, 2.6, 6.9, 2.3],\n",
              "       [6. , 2.2, 5. , 1.5],\n",
              "       [6.9, 3.2, 5.7, 2.3],\n",
              "       [5.6, 2.8, 4.9, 2. ],\n",
              "       [7.7, 2.8, 6.7, 2. ],\n",
              "       [6.3, 2.7, 4.9, 1.8],\n",
              "       [6.7, 3.3, 5.7, 2.1],\n",
              "       [7.2, 3.2, 6. , 1.8],\n",
              "       [6.2, 2.8, 4.8, 1.8],\n",
              "       [6.1, 3. , 4.9, 1.8],\n",
              "       [6.4, 2.8, 5.6, 2.1],\n",
              "       [7.2, 3. , 5.8, 1.6],\n",
              "       [7.4, 2.8, 6.1, 1.9],\n",
              "       [7.9, 3.8, 6.4, 2. ],\n",
              "       [6.4, 2.8, 5.6, 2.2],\n",
              "       [6.3, 2.8, 5.1, 1.5],\n",
              "       [6.1, 2.6, 5.6, 1.4],\n",
              "       [7.7, 3. , 6.1, 2.3],\n",
              "       [6.3, 3.4, 5.6, 2.4],\n",
              "       [6.4, 3.1, 5.5, 1.8],\n",
              "       [6. , 3. , 4.8, 1.8],\n",
              "       [6.9, 3.1, 5.4, 2.1],\n",
              "       [6.7, 3.1, 5.6, 2.4],\n",
              "       [6.9, 3.1, 5.1, 2.3],\n",
              "       [5.8, 2.7, 5.1, 1.9],\n",
              "       [6.8, 3.2, 5.9, 2.3],\n",
              "       [6.7, 3.3, 5.7, 2.5],\n",
              "       [6.7, 3. , 5.2, 2.3],\n",
              "       [6.3, 2.5, 5. , 1.9],\n",
              "       [6.5, 3. , 5.2, 2. ],\n",
              "       [6.2, 3.4, 5.4, 2.3],\n",
              "       [5.9, 3. , 5.1, 1.8]])"
            ]
          },
          "execution_count": 41,
          "metadata": {},
          "output_type": "execute_result"
        }
      ],
      "source": [
        "X\n"
      ]
    },
    {
      "cell_type": "code",
      "execution_count": 43,
      "metadata": {
        "colab": {
          "base_uri": "https://localhost:8080/"
        },
        "id": "Bxwic7s8WukR",
        "outputId": "cbb8581c-2bb0-459d-ae02-891171e84561"
      },
      "outputs": [
        {
          "name": "stdout",
          "output_type": "stream",
          "text": [
            "0\n",
            "3\n",
            "-----------\n"
          ]
        },
        {
          "name": "stderr",
          "output_type": "stream",
          "text": [
            "/Library/Frameworks/Python.framework/Versions/3.10/lib/python3.10/site-packages/sklearn/cluster/_kmeans.py:870: FutureWarning: The default value of `n_init` will change from 10 to 'auto' in 1.4. Set the value of `n_init` explicitly to suppress the warning\n",
            "  warnings.warn(\n"
          ]
        }
      ],
      "source": [
        "#Clustering, checking scores 252702960\n",
        "winsize = 5\n",
        "split=1\n",
        "\n",
        "#rule_list=[267390795,267416079]\n",
        "#rule_list=[256577355,259190799]\n",
        "#rule_list=[252691440,2218767375]\n",
        "# rule_list=[[1511938590,2218767375],[2276755335,1259293455],[2276755215,255652080]]\n",
        "#rule_list=[[1511938590,2218767375]]\n",
        "\n",
        "tmc=[]\n",
        "tma=[]\n",
        "enc1 = copy.deepcopy(enc)\n",
        "for p in range(int(len(rule_list)/2)):\n",
        "  rule = rg(int(rule_list[0]))\n",
        "  fc = {}\n",
        "\n",
        "  tr = []\n",
        "  for i in range(split):\n",
        "    for j in range(len(enc1)):\n",
        "      tr.append(enc1[j][i])\n",
        "    fc[i]=rule_app1(tr,winsize,rule)\n",
        "    tr = []\n",
        "\n",
        "  for i in range(split):\n",
        "    t=fc[i]\n",
        "    s=findn(len(t))\n",
        "    for j in range(len(enc1)):\n",
        "      plt=enc1[j][i]\n",
        "      l=0\n",
        "      while(plt not in t[l]):\n",
        "        l+=1\n",
        "      enc1[j][i]= cy_enc(s,l)\n",
        "  rule=rg(int(rule_list[1]))\n",
        "  for i in range(len(enc1)):\n",
        "    t=\"\"\n",
        "    for j in enc1[i]:\n",
        "      t+=j\n",
        "    enc1[i]=t\n",
        "  # print(len(enc1))\n",
        "  fa=rule_app1(enc1,winsize,rule)\n",
        "  #print(fa)\n",
        "  kl=copy.deepcopy(enc1)\n",
        "  for i in range(len(enc1)):\n",
        "    j=0\n",
        "    while j <len(fa):\n",
        "      if enc1[i] in fa[j]:\n",
        "        enc1[i]=j\n",
        "        break\n",
        "      else:\n",
        "        j+=1\n",
        "\n",
        "  \n",
        "  X=data.to_numpy()\n",
        "  #print(len(enc1),len(X))\n",
        "  print(p)\n",
        "  \n",
        "  if (len(set(enc1))>1):\n",
        "      pl=silhouette_score(X,enc1,metric=\"euclidean\")\n",
        "      # print(rule_list[2*p])\n",
        "      # print(rule_list[2*p+1])\n",
        "      # print(\"silhoutte:\",pl)\n",
        "      # print(\"calinski:\",calinski_harabasz_score(X,enc1))\n",
        "      # print(\"davies:\",davies_bouldin_score(X,enc1))\n",
        "\n",
        "      clust=KMeans(n_clusters=len(set(enc1)),random_state=42)\n",
        "      clust.fit(X)\n",
        "      labels=clust.labels_\n",
        "      \n",
        "      pl1=metrics.silhouette_score(X, labels, metric='euclidean')\n",
        "      # print(\"Kmeans silhoutte :\" ,pl1)\n",
        "      print(len(set(labels)))\n",
        "      # print(\"Kmeans calinski :\", (metrics.calinski_harabasz_score(X, labels)))\n",
        "      # print(\"Kmeans davies_bouldin_score: \",metrics.davies_bouldin_score(X, labels))\n",
        "      print(\"-----------\")\n",
        "      tmc.append([pl,pl1])\n",
        "      if tma==[] or tma[0][0]<pl:\n",
        "        tma=[[pl,pl1]]\n",
        "  #enc1=copy.deepcopy(enc)\n",
        "\n",
        "\n",
        "\n",
        "\n",
        "  \n",
        "\n"
      ]
    },
    {
      "cell_type": "code",
      "execution_count": null,
      "metadata": {
        "colab": {
          "base_uri": "https://localhost:8080/"
        },
        "id": "c9espWtIqrFf",
        "outputId": "7b32b8f6-03e5-4c7c-faf9-de439557128d"
      },
      "outputs": [],
      "source": []
    },
    {
      "cell_type": "code",
      "execution_count": 44,
      "metadata": {
        "id": "nbL_4EMy34U8"
      },
      "outputs": [],
      "source": [
        "kls=copy.deepcopy(kl)\n",
        "t1=copy.deepcopy(fa) \n",
        "for i in range(len(fa)-2):\n",
        "  #print(len(t1),\"###\")\n",
        "  kl=copy.deepcopy(kls)  \n",
        "  fa1=copy.deepcopy(t1)\n",
        "  idx=0\n",
        "  for j in range(len(fa1)):\n",
        "    if len(fa1[j])<len(fa1[idx]):\n",
        "      idx=j\n",
        "      \n",
        "  t=copy.deepcopy(t1) \n",
        "  removed=t.pop(idx)\n",
        "  #print(removed)\n",
        "  ml=[]\n",
        "\n",
        "  for j in removed:\n",
        "    ml.append([kls.index(j),j])\n",
        "  ml=sorted(ml)\n",
        "  for j in ml:\n",
        "    kl.remove(j[1])\n",
        "  #print(ml)\n",
        "  for j in range(len(fa1[idx])):\n",
        "    p=[]\n",
        "    a,b=ml[0]\n",
        "    kl.insert(a,b)\n",
        "    X=data.copy(deep=True)\n",
        "    if len(ml)>1:\n",
        "        for h in ml[1:]:\n",
        "          X.drop(h[0],inplace=True)\n",
        "      #print(len(X))\n",
        "    X=X.to_numpy()\n",
        "    for k in range(len(t)):\n",
        "      m=copy.deepcopy(t)\n",
        "      m[k].append(b)\n",
        "\n",
        "      kle=copy.deepcopy(kl)\n",
        "      for z in range(len(kle)):\n",
        "        c=0\n",
        "        while c <len(m):\n",
        "          if kle[z] in m[c]:\n",
        "            kle[z]=c\n",
        "            break\n",
        "          else:\n",
        "            c+=1\n",
        "      pl=silhouette_score(X,kle,metric=\"euclidean\")\n",
        "      p.append(pl)\n",
        "    #print(p.index(max(p)))\n",
        "    #print(t[p.index(max(p))])\n",
        "    t[p.index(max(p))].append(fa1[idx][j])\n",
        "    ml.pop()\n",
        "    t1=t\n",
        "    l=[]\n",
        "    for i in t1:\n",
        "      l.append(len(i))\n",
        "    #print(l)"
      ]
    },
    {
      "cell_type": "code",
      "execution_count": 45,
      "metadata": {
        "colab": {
          "base_uri": "https://localhost:8080/"
        },
        "id": "hmlMiKrZMfBY",
        "outputId": "d478d22a-2031-4f00-eb4d-5a2791445d10"
      },
      "outputs": [
        {
          "data": {
            "text/plain": [
              "150"
            ]
          },
          "execution_count": 45,
          "metadata": {},
          "output_type": "execute_result"
        }
      ],
      "source": [
        "len(kl)"
      ]
    },
    {
      "cell_type": "code",
      "execution_count": 46,
      "metadata": {
        "colab": {
          "base_uri": "https://localhost:8080/"
        },
        "id": "sHcUr7bOvqrV",
        "outputId": "3ae579c8-8798-4a16-fdfb-72662c5aebc7"
      },
      "outputs": [
        {
          "name": "stdout",
          "output_type": "stream",
          "text": [
            "silhoutte: 0.13844065216651733\n",
            "calinski: 2.93231349354974\n",
            "davies: 5.260713550499543\n",
            "Kmeans silhoutte : 0.6808136202936815\n",
            "Kmeans calinski : 513.3038433517568\n",
            "Kmeans davies_bouldin_score:  0.40483413639182986\n",
            "2\n"
          ]
        },
        {
          "name": "stderr",
          "output_type": "stream",
          "text": [
            "/Library/Frameworks/Python.framework/Versions/3.10/lib/python3.10/site-packages/sklearn/cluster/_kmeans.py:870: FutureWarning: The default value of `n_init` will change from 10 to 'auto' in 1.4. Set the value of `n_init` explicitly to suppress the warning\n",
            "  warnings.warn(\n"
          ]
        }
      ],
      "source": [
        "for i in range(len(kls)):\n",
        "    j=0\n",
        "    while j <len(t1):\n",
        "      if kls[i] in t1[j]:\n",
        "        kls[i]=j\n",
        "        break\n",
        "      else:\n",
        "        j+=1\n",
        "X=data.to_numpy()\n",
        "pl=silhouette_score(X,kls,metric=\"euclidean\")\n",
        "print(\"silhoutte:\",pl)\n",
        "print(\"calinski:\",calinski_harabasz_score(X,kls))\n",
        "print(\"davies:\",davies_bouldin_score(X,kls))\n",
        "clust=KMeans(n_clusters=len(set(kls)),random_state=42)\n",
        "clust.fit(X)\n",
        "labels=clust.labels_\n",
        "      \n",
        "pl1=metrics.silhouette_score(X, labels, metric='euclidean')\n",
        "print(\"Kmeans silhoutte :\" ,pl1)\n",
        "print(\"Kmeans calinski :\", (metrics.calinski_harabasz_score(X, labels)))\n",
        "print(\"Kmeans davies_bouldin_score: \",metrics.davies_bouldin_score(X, labels))\n",
        "print(len(set(labels)))"
      ]
    },
    {
      "cell_type": "code",
      "execution_count": 47,
      "metadata": {
        "colab": {
          "base_uri": "https://localhost:8080/"
        },
        "id": "qLW3bSBedJcs",
        "outputId": "8cb60e46-7403-4c57-9e23-56a01b7801e6"
      },
      "outputs": [
        {
          "name": "stdout",
          "output_type": "stream",
          "text": [
            "+--------------------------+--------------------------------+------------------------------+------------------------+---------------------------+\n",
            "|   Initial no.of clusters |   Silhoutte score for our algo |   silhoutte score for kmeans |    new silhoutte score |   new silhoute for kmeans |\n",
            "+==========================+================================+==============================+========================+===========================+\n",
            "|                        3 |                      -0.121356 |                     0.552592 |               0.138441 |                  0.680814 |\n",
            "+--------------------------+--------------------------------+------------------------------+------------------------+---------------------------+\n"
          ]
        }
      ],
      "source": [
        "my_data=[[len(fa),tma[0][0],tma[0][1],pl,pl1]]\n",
        "head=[\"Initial no.of clusters\", \"Silhoutte score for our algo\",\"silhoutte score for kmeans\",\" new silhoutte score\",\"new silhoute for kmeans\"]\n",
        "print(tabulate(my_data, headers=head, tablefmt=\"grid\"))"
      ]
    },
    {
      "cell_type": "code",
      "execution_count": 48,
      "metadata": {
        "colab": {
          "base_uri": "https://localhost:8080/"
        },
        "id": "GfCco_5De85-",
        "outputId": "1ad1c339-dfba-4a3c-f7a4-2b978cb10a9a"
      },
      "outputs": [
        {
          "name": "stdout",
          "output_type": "stream",
          "text": [
            "before : [5, 3, 1]\n",
            "after:  [6, 3]\n",
            "[['0100', '0010', '0101', '0001', '0000', '0110'], ['0111', '1000', '0011']]\n"
          ]
        }
      ],
      "source": [
        "p=[]\n",
        "for i in fa:\n",
        "  p.append(len(i))\n",
        "q=[]\n",
        "for i in t1:\n",
        "  q.append(len(i))\n",
        "print(\"before :\",p)\n",
        "print(\"after: \",q)\n",
        "\n",
        "print(t1)"
      ]
    },
    {
      "cell_type": "code",
      "execution_count": 49,
      "metadata": {
        "id": "6gU7drT9bhhL"
      },
      "outputs": [],
      "source": [
        "from sklearn.cluster import KMeans, MeanShift, DBSCAN, Birch\n",
        "from sklearn import datasets\n",
        "X=data.to_numpy()\n"
      ]
    },
    {
      "cell_type": "code",
      "execution_count": 50,
      "metadata": {
        "colab": {
          "base_uri": "https://localhost:8080/"
        },
        "id": "Y1cbpMuubjW5",
        "outputId": "65bc4f93-6a62-4a90-946f-b468d3fa4f3f"
      },
      "outputs": [
        {
          "ename": "ValueError",
          "evalue": "Number of labels is 1. Valid values are 2 to n_samples - 1 (inclusive)",
          "output_type": "error",
          "traceback": [
            "\u001b[0;31m---------------------------------------------------------------------------\u001b[0m",
            "\u001b[0;31mValueError\u001b[0m                                Traceback (most recent call last)",
            "Cell \u001b[0;32mIn[50], line 4\u001b[0m\n\u001b[1;32m      2\u001b[0m clust_model\u001b[39m.\u001b[39mfit(X)\n\u001b[1;32m      3\u001b[0m labels \u001b[39m=\u001b[39m clust_model\u001b[39m.\u001b[39mlabels_\n\u001b[0;32m----> 4\u001b[0m pl1\u001b[39m=\u001b[39mmetrics\u001b[39m.\u001b[39;49msilhouette_score(X, labels, metric\u001b[39m=\u001b[39;49m\u001b[39m'\u001b[39;49m\u001b[39meuclidean\u001b[39;49m\u001b[39m'\u001b[39;49m)\n\u001b[1;32m      5\u001b[0m \u001b[39mprint\u001b[39m(\u001b[39m\"\u001b[39m\u001b[39mMeanshift silhoutte :\u001b[39m\u001b[39m\"\u001b[39m ,pl1)\n\u001b[1;32m      6\u001b[0m \u001b[39mprint\u001b[39m(\u001b[39m\"\u001b[39m\u001b[39mMeanshift calinski :\u001b[39m\u001b[39m\"\u001b[39m, (metrics\u001b[39m.\u001b[39mcalinski_harabasz_score(X, labels)))\n",
            "File \u001b[0;32m/Library/Frameworks/Python.framework/Versions/3.10/lib/python3.10/site-packages/sklearn/metrics/cluster/_unsupervised.py:117\u001b[0m, in \u001b[0;36msilhouette_score\u001b[0;34m(X, labels, metric, sample_size, random_state, **kwds)\u001b[0m\n\u001b[1;32m    115\u001b[0m     \u001b[39melse\u001b[39;00m:\n\u001b[1;32m    116\u001b[0m         X, labels \u001b[39m=\u001b[39m X[indices], labels[indices]\n\u001b[0;32m--> 117\u001b[0m \u001b[39mreturn\u001b[39;00m np\u001b[39m.\u001b[39mmean(silhouette_samples(X, labels, metric\u001b[39m=\u001b[39;49mmetric, \u001b[39m*\u001b[39;49m\u001b[39m*\u001b[39;49mkwds))\n",
            "File \u001b[0;32m/Library/Frameworks/Python.framework/Versions/3.10/lib/python3.10/site-packages/sklearn/metrics/cluster/_unsupervised.py:231\u001b[0m, in \u001b[0;36msilhouette_samples\u001b[0;34m(X, labels, metric, **kwds)\u001b[0m\n\u001b[1;32m    229\u001b[0m n_samples \u001b[39m=\u001b[39m \u001b[39mlen\u001b[39m(labels)\n\u001b[1;32m    230\u001b[0m label_freqs \u001b[39m=\u001b[39m np\u001b[39m.\u001b[39mbincount(labels)\n\u001b[0;32m--> 231\u001b[0m check_number_of_labels(\u001b[39mlen\u001b[39;49m(le\u001b[39m.\u001b[39;49mclasses_), n_samples)\n\u001b[1;32m    233\u001b[0m kwds[\u001b[39m\"\u001b[39m\u001b[39mmetric\u001b[39m\u001b[39m\"\u001b[39m] \u001b[39m=\u001b[39m metric\n\u001b[1;32m    234\u001b[0m reduce_func \u001b[39m=\u001b[39m functools\u001b[39m.\u001b[39mpartial(\n\u001b[1;32m    235\u001b[0m     _silhouette_reduce, labels\u001b[39m=\u001b[39mlabels, label_freqs\u001b[39m=\u001b[39mlabel_freqs\n\u001b[1;32m    236\u001b[0m )\n",
            "File \u001b[0;32m/Library/Frameworks/Python.framework/Versions/3.10/lib/python3.10/site-packages/sklearn/metrics/cluster/_unsupervised.py:33\u001b[0m, in \u001b[0;36mcheck_number_of_labels\u001b[0;34m(n_labels, n_samples)\u001b[0m\n\u001b[1;32m     22\u001b[0m \u001b[39m\"\"\"Check that number of labels are valid.\u001b[39;00m\n\u001b[1;32m     23\u001b[0m \n\u001b[1;32m     24\u001b[0m \u001b[39mParameters\u001b[39;00m\n\u001b[0;32m   (...)\u001b[0m\n\u001b[1;32m     30\u001b[0m \u001b[39m    Number of samples.\u001b[39;00m\n\u001b[1;32m     31\u001b[0m \u001b[39m\"\"\"\u001b[39;00m\n\u001b[1;32m     32\u001b[0m \u001b[39mif\u001b[39;00m \u001b[39mnot\u001b[39;00m \u001b[39m1\u001b[39m \u001b[39m<\u001b[39m n_labels \u001b[39m<\u001b[39m n_samples:\n\u001b[0;32m---> 33\u001b[0m     \u001b[39mraise\u001b[39;00m \u001b[39mValueError\u001b[39;00m(\n\u001b[1;32m     34\u001b[0m         \u001b[39m\"\u001b[39m\u001b[39mNumber of labels is \u001b[39m\u001b[39m%d\u001b[39;00m\u001b[39m. Valid values are 2 to n_samples - 1 (inclusive)\u001b[39m\u001b[39m\"\u001b[39m\n\u001b[1;32m     35\u001b[0m         \u001b[39m%\u001b[39m n_labels\n\u001b[1;32m     36\u001b[0m     )\n",
            "\u001b[0;31mValueError\u001b[0m: Number of labels is 1. Valid values are 2 to n_samples - 1 (inclusive)"
          ]
        }
      ],
      "source": [
        "clust_model = MeanShift(bandwidth=50)\n",
        "clust_model.fit(X)\n",
        "labels = clust_model.labels_\n",
        "pl1=metrics.silhouette_score(X, labels, metric='euclidean')\n",
        "print(\"Meanshift silhoutte :\" ,pl1)\n",
        "print(\"Meanshift calinski :\", (metrics.calinski_harabasz_score(X, labels)))\n",
        "print(\"Meanshift davies_bouldin_score: \",metrics.davies_bouldin_score(X, labels))\n"
      ]
    },
    {
      "cell_type": "code",
      "execution_count": null,
      "metadata": {
        "colab": {
          "base_uri": "https://localhost:8080/"
        },
        "id": "UxrlPHmvdjRp",
        "outputId": "a067f113-f36f-44ea-9255-90b25e2f0f69"
      },
      "outputs": [
        {
          "name": "stdout",
          "output_type": "stream",
          "text": [
            "DBSCAN silhoutte : 0.46821835837440073\n"
          ]
        }
      ],
      "source": [
        "clust_model = DBSCAN(min_samples=2, eps=100)\n",
        "clust_model.fit(X)\n",
        "# Evaluating model's performance\n",
        "\n",
        "labels = clust_model.labels_\n",
        "# pl1=metrics.silhouette_score(X, labels, metric='euclidean')\n",
        "print(\"DBSCAN silhoutte :\" ,pl1)\n",
        "# print(\"DBSCAN calinski :\", (metrics.calinski_harabasz_score(X, labels)))\n",
        "# print(\"DBSCAN davies_bouldin_score: \",metrics.davies_bouldin_score(X, labels))\n"
      ]
    },
    {
      "cell_type": "code",
      "execution_count": null,
      "metadata": {
        "colab": {
          "base_uri": "https://localhost:8080/"
        },
        "id": "5wlgpCBpdjVI",
        "outputId": "41a9f17e-c948-40b1-8359-e9772bb05d41"
      },
      "outputs": [
        {
          "name": "stdout",
          "output_type": "stream",
          "text": [
            "Birch silhoutte : 0.7663611080988648\n",
            "Birch calinski : 94.42893185124181\n",
            "Birch davies_bouldin_score:  0.43429835583227294\n"
          ]
        }
      ],
      "source": [
        "clust_model = Birch(n_clusters=2,branching_factor=1000,threshold=1.5)\n",
        "clust_model.fit(X)\n",
        "labels = clust_model.labels_\n",
        "pl1=metrics.silhouette_score(X, labels, metric='euclidean')\n",
        "print(\"Birch silhoutte :\" ,pl1)\n",
        "print(\"Birch calinski :\", (metrics.calinski_harabasz_score(X, labels)))\n",
        "print(\"Birch davies_bouldin_score: \",metrics.davies_bouldin_score(X, labels))\n"
      ]
    },
    {
      "cell_type": "code",
      "execution_count": null,
      "metadata": {
        "colab": {
          "base_uri": "https://localhost:8080/"
        },
        "id": "XqJvCBdcM-F-",
        "outputId": "e59d4f1b-0d40-4577-cc4d-069e3b62a535"
      },
      "outputs": [
        {
          "data": {
            "text/plain": [
              "array([[ 11.  ,   4.  ,   0.36, ...,   0.  ,  11.  , 100.  ],\n",
              "       [124.  ,  70.  ,   0.56, ...,   0.  , 124.  , 100.  ],\n",
              "       [ 38.  ,  26.  ,   0.68, ...,   0.  ,  38.  , 100.  ],\n",
              "       ...,\n",
              "       [  6.  ,   4.  ,   0.67, ...,   0.  ,   6.  , 100.  ],\n",
              "       [  0.  ,   0.  ,   0.  , ...,   0.  ,   0.  ,   0.  ],\n",
              "       [  0.  ,   0.  ,   0.  , ...,   0.  ,   0.  ,   0.  ]])"
            ]
          },
          "execution_count": 1384,
          "metadata": {},
          "output_type": "execute_result"
        }
      ],
      "source": [
        "X\n"
      ]
    }
  ],
  "metadata": {
    "colab": {
      "provenance": []
    },
    "kernelspec": {
      "display_name": "Python 3",
      "language": "python",
      "name": "python3"
    },
    "language_info": {
      "codemirror_mode": {
        "name": "ipython",
        "version": 3
      },
      "file_extension": ".py",
      "mimetype": "text/x-python",
      "name": "python",
      "nbconvert_exporter": "python",
      "pygments_lexer": "ipython3",
      "version": "3.10.9 (v3.10.9:1dd9be6584, Dec  6 2022, 14:37:36) [Clang 13.0.0 (clang-1300.0.29.30)]"
    },
    "vscode": {
      "interpreter": {
        "hash": "aee8b7b246df8f9039afb4144a1f6fd8d2ca17a180786b69acc140d282b71a49"
      }
    }
  },
  "nbformat": 4,
  "nbformat_minor": 0
}
