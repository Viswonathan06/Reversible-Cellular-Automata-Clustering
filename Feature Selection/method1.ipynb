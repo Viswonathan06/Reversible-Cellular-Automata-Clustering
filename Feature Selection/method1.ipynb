{
 "cells": [
  {
   "cell_type": "code",
   "execution_count": 1,
   "metadata": {},
   "outputs": [
    {
     "data": {
      "text/html": [
       "<div>\n",
       "<style scoped>\n",
       "    .dataframe tbody tr th:only-of-type {\n",
       "        vertical-align: middle;\n",
       "    }\n",
       "\n",
       "    .dataframe tbody tr th {\n",
       "        vertical-align: top;\n",
       "    }\n",
       "\n",
       "    .dataframe thead th {\n",
       "        text-align: right;\n",
       "    }\n",
       "</style>\n",
       "<table border=\"1\" class=\"dataframe\">\n",
       "  <thead>\n",
       "    <tr style=\"text-align: right;\">\n",
       "      <th></th>\n",
       "      <th>Id</th>\n",
       "      <th>SepalLengthCm</th>\n",
       "      <th>SepalWidthCm</th>\n",
       "      <th>PetalLengthCm</th>\n",
       "      <th>PetalWidthCm</th>\n",
       "      <th>Species</th>\n",
       "    </tr>\n",
       "  </thead>\n",
       "  <tbody>\n",
       "    <tr>\n",
       "      <th>0</th>\n",
       "      <td>1</td>\n",
       "      <td>5.1</td>\n",
       "      <td>3.5</td>\n",
       "      <td>1.4</td>\n",
       "      <td>0.2</td>\n",
       "      <td>Iris-setosa</td>\n",
       "    </tr>\n",
       "    <tr>\n",
       "      <th>1</th>\n",
       "      <td>2</td>\n",
       "      <td>4.9</td>\n",
       "      <td>3.0</td>\n",
       "      <td>1.4</td>\n",
       "      <td>0.2</td>\n",
       "      <td>Iris-setosa</td>\n",
       "    </tr>\n",
       "    <tr>\n",
       "      <th>2</th>\n",
       "      <td>3</td>\n",
       "      <td>4.7</td>\n",
       "      <td>3.2</td>\n",
       "      <td>1.3</td>\n",
       "      <td>0.2</td>\n",
       "      <td>Iris-setosa</td>\n",
       "    </tr>\n",
       "    <tr>\n",
       "      <th>3</th>\n",
       "      <td>4</td>\n",
       "      <td>4.6</td>\n",
       "      <td>3.1</td>\n",
       "      <td>1.5</td>\n",
       "      <td>0.2</td>\n",
       "      <td>Iris-setosa</td>\n",
       "    </tr>\n",
       "    <tr>\n",
       "      <th>4</th>\n",
       "      <td>5</td>\n",
       "      <td>5.0</td>\n",
       "      <td>3.6</td>\n",
       "      <td>1.4</td>\n",
       "      <td>0.2</td>\n",
       "      <td>Iris-setosa</td>\n",
       "    </tr>\n",
       "  </tbody>\n",
       "</table>\n",
       "</div>"
      ],
      "text/plain": [
       "   Id  SepalLengthCm  SepalWidthCm  PetalLengthCm  PetalWidthCm      Species\n",
       "0   1            5.1           3.5            1.4           0.2  Iris-setosa\n",
       "1   2            4.9           3.0            1.4           0.2  Iris-setosa\n",
       "2   3            4.7           3.2            1.3           0.2  Iris-setosa\n",
       "3   4            4.6           3.1            1.5           0.2  Iris-setosa\n",
       "4   5            5.0           3.6            1.4           0.2  Iris-setosa"
      ]
     },
     "execution_count": 1,
     "metadata": {},
     "output_type": "execute_result"
    }
   ],
   "source": [
    "import pandas as pd, sklearn\n",
    "\n",
    "df = pd.read_csv('Iris.csv')\n",
    "df.head()"
   ]
  },
  {
   "cell_type": "code",
   "execution_count": 76,
   "metadata": {},
   "outputs": [
    {
     "data": {
      "text/plain": [
       "0      32500.0\n",
       "1      31500.0\n",
       "2      30000.0\n",
       "3      30500.0\n",
       "4      32000.0\n",
       "        ...   \n",
       "145    59500.0\n",
       "146    56500.0\n",
       "147    58500.0\n",
       "148    58000.0\n",
       "149    55000.0\n",
       "Length: 150, dtype: float64"
      ]
     },
     "execution_count": 76,
     "metadata": {},
     "output_type": "execute_result"
    }
   ],
   "source": [
    "AvgLen = df[['SepalLengthCm', 'PetalLengthCm']].mean(axis=1)*10000\n",
    "AvgLen\n"
   ]
  },
  {
   "cell_type": "code",
   "execution_count": 77,
   "metadata": {},
   "outputs": [
    {
     "data": {
      "text/plain": [
       "0      18500.0\n",
       "1      16000.0\n",
       "2      17000.0\n",
       "3      16500.0\n",
       "4      19000.0\n",
       "        ...   \n",
       "145    26500.0\n",
       "146    22000.0\n",
       "147    25000.0\n",
       "148    28500.0\n",
       "149    24000.0\n",
       "Length: 150, dtype: float64"
      ]
     },
     "execution_count": 77,
     "metadata": {},
     "output_type": "execute_result"
    }
   ],
   "source": [
    "AvgWid = df[['SepalWidthCm', 'PetalWidthCm']].mean(axis=1)*10000\n",
    "AvgWid"
   ]
  },
  {
   "cell_type": "code",
   "execution_count": 78,
   "metadata": {},
   "outputs": [
    {
     "data": {
      "text/html": [
       "<div>\n",
       "<style scoped>\n",
       "    .dataframe tbody tr th:only-of-type {\n",
       "        vertical-align: middle;\n",
       "    }\n",
       "\n",
       "    .dataframe tbody tr th {\n",
       "        vertical-align: top;\n",
       "    }\n",
       "\n",
       "    .dataframe thead th {\n",
       "        text-align: right;\n",
       "    }\n",
       "</style>\n",
       "<table border=\"1\" class=\"dataframe\">\n",
       "  <thead>\n",
       "    <tr style=\"text-align: right;\">\n",
       "      <th></th>\n",
       "      <th>0</th>\n",
       "      <th>1</th>\n",
       "    </tr>\n",
       "  </thead>\n",
       "  <tbody>\n",
       "    <tr>\n",
       "      <th>0</th>\n",
       "      <td>32500.0</td>\n",
       "      <td>18500.0</td>\n",
       "    </tr>\n",
       "    <tr>\n",
       "      <th>1</th>\n",
       "      <td>31500.0</td>\n",
       "      <td>16000.0</td>\n",
       "    </tr>\n",
       "    <tr>\n",
       "      <th>2</th>\n",
       "      <td>30000.0</td>\n",
       "      <td>17000.0</td>\n",
       "    </tr>\n",
       "    <tr>\n",
       "      <th>3</th>\n",
       "      <td>30500.0</td>\n",
       "      <td>16500.0</td>\n",
       "    </tr>\n",
       "    <tr>\n",
       "      <th>4</th>\n",
       "      <td>32000.0</td>\n",
       "      <td>19000.0</td>\n",
       "    </tr>\n",
       "    <tr>\n",
       "      <th>...</th>\n",
       "      <td>...</td>\n",
       "      <td>...</td>\n",
       "    </tr>\n",
       "    <tr>\n",
       "      <th>145</th>\n",
       "      <td>59500.0</td>\n",
       "      <td>26500.0</td>\n",
       "    </tr>\n",
       "    <tr>\n",
       "      <th>146</th>\n",
       "      <td>56500.0</td>\n",
       "      <td>22000.0</td>\n",
       "    </tr>\n",
       "    <tr>\n",
       "      <th>147</th>\n",
       "      <td>58500.0</td>\n",
       "      <td>25000.0</td>\n",
       "    </tr>\n",
       "    <tr>\n",
       "      <th>148</th>\n",
       "      <td>58000.0</td>\n",
       "      <td>28500.0</td>\n",
       "    </tr>\n",
       "    <tr>\n",
       "      <th>149</th>\n",
       "      <td>55000.0</td>\n",
       "      <td>24000.0</td>\n",
       "    </tr>\n",
       "  </tbody>\n",
       "</table>\n",
       "<p>150 rows × 2 columns</p>\n",
       "</div>"
      ],
      "text/plain": [
       "           0        1\n",
       "0    32500.0  18500.0\n",
       "1    31500.0  16000.0\n",
       "2    30000.0  17000.0\n",
       "3    30500.0  16500.0\n",
       "4    32000.0  19000.0\n",
       "..       ...      ...\n",
       "145  59500.0  26500.0\n",
       "146  56500.0  22000.0\n",
       "147  58500.0  25000.0\n",
       "148  58000.0  28500.0\n",
       "149  55000.0  24000.0\n",
       "\n",
       "[150 rows x 2 columns]"
      ]
     },
     "execution_count": 78,
     "metadata": {},
     "output_type": "execute_result"
    }
   ],
   "source": [
    "Avg = pd.concat([AvgLen, AvgWid],axis=1)\n",
    "Avg"
   ]
  },
  {
   "cell_type": "code",
   "execution_count": 38,
   "metadata": {},
   "outputs": [
    {
     "name": "stdout",
     "output_type": "stream",
     "text": [
      "b'3250'\n",
      "b'3150'\n",
      "b'3000'\n",
      "b'3050'\n",
      "b'3200'\n",
      "b'3550'\n",
      "b'3000'\n",
      "b'3250'\n",
      "b'2900'\n",
      "b'3200'\n",
      "b'3450'\n",
      "b'3200'\n",
      "b'3099'\n",
      "b'2700'\n",
      "b'3500'\n",
      "b'3600'\n",
      "b'3350'\n",
      "b'3250'\n",
      "b'3700'\n",
      "b'3300'\n",
      "b'3550'\n",
      "b'3300'\n",
      "b'2800'\n",
      "b'3400'\n",
      "b'3349'\n",
      "b'3300'\n",
      "b'3300'\n",
      "b'3350'\n",
      "b'3300'\n",
      "b'3150'\n",
      "b'3200'\n",
      "b'3450'\n",
      "b'3350'\n",
      "b'3450'\n",
      "b'3200'\n",
      "b'3100'\n",
      "b'3400'\n",
      "b'3200'\n",
      "b'2850'\n",
      "b'3300'\n",
      "b'3150'\n",
      "b'2900'\n",
      "b'2850'\n",
      "b'3300'\n",
      "b'3500'\n",
      "b'3099'\n",
      "b'3349'\n",
      "b'3000'\n",
      "b'3400'\n",
      "b'3200'\n",
      "b'5850'\n",
      "b'5450'\n",
      "b'5900'\n",
      "b'4750'\n",
      "b'5550'\n",
      "b'5100'\n",
      "b'5500'\n",
      "b'4100'\n",
      "b'5600'\n",
      "b'4550'\n",
      "b'4250'\n",
      "b'5050'\n",
      "b'5000'\n",
      "b'5400'\n",
      "b'4600'\n",
      "b'5550'\n",
      "b'5050'\n",
      "b'4949'\n",
      "b'5350'\n",
      "b'4750'\n",
      "b'5350'\n",
      "b'5050'\n",
      "b'5600'\n",
      "b'5400'\n",
      "b'5350'\n",
      "b'5500'\n",
      "b'5800'\n",
      "b'5850'\n",
      "b'5250'\n",
      "b'4600'\n",
      "b'4650'\n",
      "b'4600'\n",
      "b'4850'\n",
      "b'5550'\n",
      "b'4950'\n",
      "b'5250'\n",
      "b'5700'\n",
      "b'5350'\n",
      "b'4850'\n",
      "b'4750'\n",
      "b'4950'\n",
      "b'5350'\n",
      "b'4900'\n",
      "b'4150'\n",
      "b'4900'\n",
      "b'4950'\n",
      "b'4950'\n",
      "b'5250'\n",
      "b'4050'\n",
      "b'4900'\n",
      "b'6150'\n",
      "b'5449'\n",
      "b'6500'\n",
      "b'5949'\n",
      "b'6150'\n",
      "b'7100'\n",
      "b'4700'\n",
      "b'6800'\n",
      "b'6250'\n",
      "b'6650'\n",
      "b'5800'\n",
      "b'5850'\n",
      "b'6150'\n",
      "b'5350'\n",
      "b'5449'\n",
      "b'5850'\n",
      "b'6000'\n",
      "b'7200'\n",
      "b'7300'\n",
      "b'5500'\n",
      "b'6300'\n",
      "b'5250'\n",
      "b'7200'\n",
      "b'5600'\n",
      "b'6200'\n",
      "b'6600'\n",
      "b'5500'\n",
      "b'5500'\n",
      "b'6000'\n",
      "b'6500'\n",
      "b'6750'\n",
      "b'7150'\n",
      "b'6000'\n",
      "b'5699'\n",
      "b'5850'\n",
      "b'6900'\n",
      "b'5949'\n",
      "b'5950'\n",
      "b'5400'\n",
      "b'6150'\n",
      "b'6150'\n",
      "b'6000'\n",
      "b'5449'\n",
      "b'6350'\n",
      "b'6200'\n",
      "b'5950'\n",
      "b'5650'\n",
      "b'5850'\n",
      "b'5800'\n",
      "b'5500'\n"
     ]
    }
   ],
   "source": [
    "list1 = map(lambda x: x.encode('utf-8','strict'),AvgLen)\n",
    "print(*list1, sep='\\n')\n"
   ]
  },
  {
   "cell_type": "code",
   "execution_count": 79,
   "metadata": {},
   "outputs": [
    {
     "data": {
      "text/plain": [
       "0      0b11100101000110010000100101000100000110011111...\n",
       "1      -0b1111100100100100000110110101010110011110100...\n",
       "2      0b11100110111111001000011000010111101100000011...\n",
       "3      -0b1101111110100011000110011001110111011000000...\n",
       "4      0b10110000111110010001101011010011001101101100...\n",
       "                             ...                        \n",
       "145    -0b1101000010011111101000011110110100010010110...\n",
       "146    0b10100110100111011011000011110001010010001010...\n",
       "147    0b10101111110100111000011000010001100000011101...\n",
       "148    0b10011111011101010101100000111111001101000100...\n",
       "149    -0b1111101010011001010111000110010000101101111...\n",
       "Length: 150, dtype: object"
      ]
     },
     "execution_count": 79,
     "metadata": {},
     "output_type": "execute_result"
    }
   ],
   "source": [
    "Binavg = Avg.apply(lambda x: bin(hash(tuple(x))), axis = 1)\n",
    "Binavg\n"
   ]
  },
  {
   "cell_type": "code",
   "execution_count": 80,
   "metadata": {},
   "outputs": [
    {
     "data": {
      "text/plain": [
       "138"
      ]
     },
     "execution_count": 80,
     "metadata": {},
     "output_type": "execute_result"
    }
   ],
   "source": [
    "len(Binavg.unique())"
   ]
  },
  {
   "cell_type": "code",
   "execution_count": 58,
   "metadata": {},
   "outputs": [
    {
     "data": {
      "text/plain": [
       "'0b100011000100111010101001010111000101001111110001101011010010101'"
      ]
     },
     "execution_count": 58,
     "metadata": {},
     "output_type": "execute_result"
    }
   ],
   "source": [
    "s = Binavg[0]\n",
    "s"
   ]
  },
  {
   "cell_type": "code",
   "execution_count": 57,
   "metadata": {},
   "outputs": [
    {
     "data": {
      "text/plain": [
       "b'0b100011000100111010101001010111000101001111110001101011010010101'"
      ]
     },
     "execution_count": 57,
     "metadata": {},
     "output_type": "execute_result"
    }
   ],
   "source": [
    "arr = bytes(s, 'utf-8')"
   ]
  },
  {
   "cell_type": "code",
   "execution_count": 43,
   "metadata": {},
   "outputs": [],
   "source": [
    "import lzma"
   ]
  },
  {
   "cell_type": "code",
   "execution_count": 60,
   "metadata": {},
   "outputs": [
    {
     "data": {
      "text/plain": [
       "b'\\xfd7zXZ\\x00\\x00\\x04\\xe6\\xd6\\xb4F\\x02\\x00!\\x01\\x16\\x00\\x00\\x00t/\\xe5\\xa3'"
      ]
     },
     "execution_count": 60,
     "metadata": {},
     "output_type": "execute_result"
    }
   ],
   "source": [
    "\n",
    "compressor = lzma.LZMACompressor()\n",
    "t = compressor.compress(arr)\n",
    "t"
   ]
  },
  {
   "cell_type": "code",
   "execution_count": 67,
   "metadata": {},
   "outputs": [
    {
     "data": {
      "text/plain": [
       "'fd377a585a000004e6d6b4460200210116000000742fe5a3'"
      ]
     },
     "execution_count": 67,
     "metadata": {},
     "output_type": "execute_result"
    }
   ],
   "source": [
    "r =t.hex\n",
    "r()\n"
   ]
  },
  {
   "cell_type": "code",
   "execution_count": 69,
   "metadata": {},
   "outputs": [
    {
     "data": {
      "text/plain": [
       "48"
      ]
     },
     "execution_count": 69,
     "metadata": {},
     "output_type": "execute_result"
    }
   ],
   "source": [
    "len(r())"
   ]
  }
 ],
 "metadata": {
  "kernelspec": {
   "display_name": "Python 3.8.10 64-bit",
   "language": "python",
   "name": "python3"
  },
  "language_info": {
   "codemirror_mode": {
    "name": "ipython",
    "version": 3
   },
   "file_extension": ".py",
   "mimetype": "text/x-python",
   "name": "python",
   "nbconvert_exporter": "python",
   "pygments_lexer": "ipython3",
   "version": "3.8.10"
  },
  "orig_nbformat": 4,
  "vscode": {
   "interpreter": {
    "hash": "916dbcbb3f70747c44a77c7bcd40155683ae19c65e1c03b4aa3499c5328201f1"
   }
  }
 },
 "nbformat": 4,
 "nbformat_minor": 2
}
